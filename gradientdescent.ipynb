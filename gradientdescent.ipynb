{
 "cells": [
  {
   "cell_type": "code",
   "execution_count": 1,
   "id": "0bd204f6",
   "metadata": {
    "_cell_guid": "b1076dfc-b9ad-4769-8c92-a6c4dae69d19",
    "_uuid": "8f2839f25d086af736a60e9eeb907d3b93b6e0e5",
    "execution": {
     "iopub.execute_input": "2023-02-05T19:41:42.218809Z",
     "iopub.status.busy": "2023-02-05T19:41:42.218334Z",
     "iopub.status.idle": "2023-02-05T19:41:42.239979Z",
     "shell.execute_reply": "2023-02-05T19:41:42.239088Z"
    },
    "papermill": {
     "duration": 0.030975,
     "end_time": "2023-02-05T19:41:42.242848",
     "exception": false,
     "start_time": "2023-02-05T19:41:42.211873",
     "status": "completed"
    },
    "tags": []
   },
   "outputs": [
    {
     "name": "stdout",
     "output_type": "stream",
     "text": [
      "/kaggle/input/salary-data-with-age-and-experience/Salary_Data.csv\n"
     ]
    }
   ],
   "source": [
    "# This Python 3 environment comes with many helpful analytics libraries installed\n",
    "# It is defined by the kaggle/python Docker image: https://github.com/kaggle/docker-python\n",
    "# For example, here's several helpful packages to load\n",
    "\n",
    "import numpy as np # linear algebra\n",
    "import pandas as pd # data processing, CSV file I/O (e.g. pd.read_csv)\n",
    "\n",
    "# Input data files are available in the read-only \"../input/\" directory\n",
    "# For example, running this (by clicking run or pressing Shift+Enter) will list all files under the input directory\n",
    "\n",
    "import os\n",
    "for dirname, _, filenames in os.walk('/kaggle/input'):\n",
    "    for filename in filenames:\n",
    "        print(os.path.join(dirname, filename))\n",
    "\n",
    "# You can write up to 20GB to the current directory (/kaggle/working/) that gets preserved as output when you create a version using \"Save & Run All\" \n",
    "# You can also write temporary files to /kaggle/temp/, but they won't be saved outside of the current session"
   ]
  },
  {
   "cell_type": "code",
   "execution_count": 2,
   "id": "1c2db7d0",
   "metadata": {
    "execution": {
     "iopub.execute_input": "2023-02-05T19:41:42.253190Z",
     "iopub.status.busy": "2023-02-05T19:41:42.252805Z",
     "iopub.status.idle": "2023-02-05T19:41:44.468024Z",
     "shell.execute_reply": "2023-02-05T19:41:44.466768Z"
    },
    "papermill": {
     "duration": 2.223365,
     "end_time": "2023-02-05T19:41:44.470940",
     "exception": false,
     "start_time": "2023-02-05T19:41:42.247575",
     "status": "completed"
    },
    "tags": []
   },
   "outputs": [],
   "source": [
    "import seaborn as sns \n",
    "import plotly.express as px \n",
    "from sklearn.linear_model import LinearRegression \n",
    "from sklearn.linear_model import SGDRegressor"
   ]
  },
  {
   "cell_type": "code",
   "execution_count": 3,
   "id": "010c550f",
   "metadata": {
    "execution": {
     "iopub.execute_input": "2023-02-05T19:41:44.480820Z",
     "iopub.status.busy": "2023-02-05T19:41:44.480387Z",
     "iopub.status.idle": "2023-02-05T19:41:44.494985Z",
     "shell.execute_reply": "2023-02-05T19:41:44.493815Z"
    },
    "papermill": {
     "duration": 0.022339,
     "end_time": "2023-02-05T19:41:44.497321",
     "exception": false,
     "start_time": "2023-02-05T19:41:44.474982",
     "status": "completed"
    },
    "tags": []
   },
   "outputs": [],
   "source": [
    "class InputNotArrayException(Exception):\n",
    "    def __init__(self, message = 'Given input is not an array nor dataframe'):\n",
    "        self.message = message \n",
    "        super().__init__(message)\n",
    "        \n",
    "    \n",
    "class GradientDescent():\n",
    "    \n",
    "    def __init__(self, epochs = None, learning_rate = 0.004578, threshold = 0.0000001):\n",
    "        self.learning_rate = learning_rate \n",
    "        self.epochs = epochs \n",
    "        self.threshold = threshold\n",
    "    \n",
    "    def fit(self, X, y):\n",
    "        try:\n",
    "            rows, cols = X.shape\n",
    "        except Exception as e:\n",
    "            if (isinstance(X, pd.DataFrame) or isinstance(X, pd.Series)) and (isinstance(y, pd.Series) or isinstance(y, pd.Series)):\n",
    "                rows, cols = X.values.shape                \n",
    "            else: raise InputNotArrayException()\n",
    "        \n",
    "        X, y = X.values, y.values \n",
    "        X = np.hstack([X, np.ones((rows, 1))])        \n",
    "        y = y.reshape(rows, 1)\n",
    "        B = np.zeros((cols + 1, 1))\n",
    "        \n",
    "        for col in range(cols+1):\n",
    "            b = 10\n",
    "            while b - B[col] > self.threshold:\n",
    "                b = B[col]\n",
    "                slope = -2*np.sum(X[:, col].reshape((1, rows)).dot(y - X.dot(B)))\n",
    "                b = b - self.learning_rate*slope \n",
    "                B[col] = b\n",
    "                \n",
    "        self.B = B\n",
    "        \n",
    "        return self \n",
    "    \n",
    "    def predict(self, X):\n",
    "        if isinstance(X, pd.DataFrame) or isinstance(X, pd.Series): X = X.values\n",
    "        elif not isinstance(X, np.ndarray): raise InputNotArrayException\n",
    "        rows, cols = X.shape\n",
    "        X = np.hstack([X, np.ones((rows, 1))])\n",
    "        return X.dot(self.B)\n"
   ]
  },
  {
   "cell_type": "code",
   "execution_count": 4,
   "id": "cc2d5131",
   "metadata": {
    "execution": {
     "iopub.execute_input": "2023-02-05T19:41:44.505797Z",
     "iopub.status.busy": "2023-02-05T19:41:44.505441Z",
     "iopub.status.idle": "2023-02-05T19:41:44.515129Z",
     "shell.execute_reply": "2023-02-05T19:41:44.513961Z"
    },
    "papermill": {
     "duration": 0.01639,
     "end_time": "2023-02-05T19:41:44.517297",
     "exception": false,
     "start_time": "2023-02-05T19:41:44.500907",
     "status": "completed"
    },
    "tags": []
   },
   "outputs": [
    {
     "data": {
      "text/plain": [
       "array([[1., 1., 1., 1., 1., 1., 1., 1., 1., 1.]])"
      ]
     },
     "execution_count": 4,
     "metadata": {},
     "output_type": "execute_result"
    }
   ],
   "source": [
    "X = np.hstack([np.ones((10, 1)), np.ones((10, 1))])\n",
    "X[:, 0].reshape((1, 10))"
   ]
  },
  {
   "cell_type": "code",
   "execution_count": 5,
   "id": "b45019d6",
   "metadata": {
    "execution": {
     "iopub.execute_input": "2023-02-05T19:41:44.527519Z",
     "iopub.status.busy": "2023-02-05T19:41:44.526339Z",
     "iopub.status.idle": "2023-02-05T19:41:44.562821Z",
     "shell.execute_reply": "2023-02-05T19:41:44.561484Z"
    },
    "papermill": {
     "duration": 0.044309,
     "end_time": "2023-02-05T19:41:44.565549",
     "exception": false,
     "start_time": "2023-02-05T19:41:44.521240",
     "status": "completed"
    },
    "tags": []
   },
   "outputs": [
    {
     "data": {
      "text/html": [
       "<div>\n",
       "<style scoped>\n",
       "    .dataframe tbody tr th:only-of-type {\n",
       "        vertical-align: middle;\n",
       "    }\n",
       "\n",
       "    .dataframe tbody tr th {\n",
       "        vertical-align: top;\n",
       "    }\n",
       "\n",
       "    .dataframe thead th {\n",
       "        text-align: right;\n",
       "    }\n",
       "</style>\n",
       "<table border=\"1\" class=\"dataframe\">\n",
       "  <thead>\n",
       "    <tr style=\"text-align: right;\">\n",
       "      <th></th>\n",
       "      <th>YearsExperience</th>\n",
       "      <th>Age</th>\n",
       "      <th>Salary</th>\n",
       "    </tr>\n",
       "  </thead>\n",
       "  <tbody>\n",
       "    <tr>\n",
       "      <th>0</th>\n",
       "      <td>1.1</td>\n",
       "      <td>21.0</td>\n",
       "      <td>39343</td>\n",
       "    </tr>\n",
       "    <tr>\n",
       "      <th>1</th>\n",
       "      <td>1.3</td>\n",
       "      <td>21.5</td>\n",
       "      <td>46205</td>\n",
       "    </tr>\n",
       "    <tr>\n",
       "      <th>2</th>\n",
       "      <td>1.5</td>\n",
       "      <td>21.7</td>\n",
       "      <td>37731</td>\n",
       "    </tr>\n",
       "    <tr>\n",
       "      <th>3</th>\n",
       "      <td>2.0</td>\n",
       "      <td>22.0</td>\n",
       "      <td>43525</td>\n",
       "    </tr>\n",
       "    <tr>\n",
       "      <th>4</th>\n",
       "      <td>2.2</td>\n",
       "      <td>22.2</td>\n",
       "      <td>39891</td>\n",
       "    </tr>\n",
       "    <tr>\n",
       "      <th>5</th>\n",
       "      <td>2.9</td>\n",
       "      <td>23.0</td>\n",
       "      <td>56642</td>\n",
       "    </tr>\n",
       "    <tr>\n",
       "      <th>6</th>\n",
       "      <td>3.0</td>\n",
       "      <td>23.0</td>\n",
       "      <td>60150</td>\n",
       "    </tr>\n",
       "    <tr>\n",
       "      <th>7</th>\n",
       "      <td>3.2</td>\n",
       "      <td>23.3</td>\n",
       "      <td>54445</td>\n",
       "    </tr>\n",
       "    <tr>\n",
       "      <th>8</th>\n",
       "      <td>3.2</td>\n",
       "      <td>23.3</td>\n",
       "      <td>64445</td>\n",
       "    </tr>\n",
       "    <tr>\n",
       "      <th>9</th>\n",
       "      <td>3.7</td>\n",
       "      <td>23.6</td>\n",
       "      <td>57189</td>\n",
       "    </tr>\n",
       "    <tr>\n",
       "      <th>10</th>\n",
       "      <td>3.9</td>\n",
       "      <td>23.9</td>\n",
       "      <td>63218</td>\n",
       "    </tr>\n",
       "    <tr>\n",
       "      <th>11</th>\n",
       "      <td>4.0</td>\n",
       "      <td>24.0</td>\n",
       "      <td>55794</td>\n",
       "    </tr>\n",
       "    <tr>\n",
       "      <th>12</th>\n",
       "      <td>4.0</td>\n",
       "      <td>24.0</td>\n",
       "      <td>56957</td>\n",
       "    </tr>\n",
       "    <tr>\n",
       "      <th>13</th>\n",
       "      <td>4.1</td>\n",
       "      <td>24.0</td>\n",
       "      <td>57081</td>\n",
       "    </tr>\n",
       "    <tr>\n",
       "      <th>14</th>\n",
       "      <td>4.5</td>\n",
       "      <td>25.0</td>\n",
       "      <td>61111</td>\n",
       "    </tr>\n",
       "    <tr>\n",
       "      <th>15</th>\n",
       "      <td>4.9</td>\n",
       "      <td>25.0</td>\n",
       "      <td>67938</td>\n",
       "    </tr>\n",
       "    <tr>\n",
       "      <th>16</th>\n",
       "      <td>5.1</td>\n",
       "      <td>26.0</td>\n",
       "      <td>66029</td>\n",
       "    </tr>\n",
       "    <tr>\n",
       "      <th>17</th>\n",
       "      <td>5.3</td>\n",
       "      <td>27.0</td>\n",
       "      <td>83088</td>\n",
       "    </tr>\n",
       "    <tr>\n",
       "      <th>18</th>\n",
       "      <td>5.9</td>\n",
       "      <td>28.0</td>\n",
       "      <td>81363</td>\n",
       "    </tr>\n",
       "    <tr>\n",
       "      <th>19</th>\n",
       "      <td>6.0</td>\n",
       "      <td>29.0</td>\n",
       "      <td>93940</td>\n",
       "    </tr>\n",
       "    <tr>\n",
       "      <th>20</th>\n",
       "      <td>6.8</td>\n",
       "      <td>30.0</td>\n",
       "      <td>91738</td>\n",
       "    </tr>\n",
       "    <tr>\n",
       "      <th>21</th>\n",
       "      <td>7.1</td>\n",
       "      <td>30.0</td>\n",
       "      <td>98273</td>\n",
       "    </tr>\n",
       "    <tr>\n",
       "      <th>22</th>\n",
       "      <td>7.9</td>\n",
       "      <td>31.0</td>\n",
       "      <td>101302</td>\n",
       "    </tr>\n",
       "    <tr>\n",
       "      <th>23</th>\n",
       "      <td>8.2</td>\n",
       "      <td>32.0</td>\n",
       "      <td>113812</td>\n",
       "    </tr>\n",
       "    <tr>\n",
       "      <th>24</th>\n",
       "      <td>8.7</td>\n",
       "      <td>33.0</td>\n",
       "      <td>109431</td>\n",
       "    </tr>\n",
       "    <tr>\n",
       "      <th>25</th>\n",
       "      <td>9.0</td>\n",
       "      <td>34.0</td>\n",
       "      <td>105582</td>\n",
       "    </tr>\n",
       "    <tr>\n",
       "      <th>26</th>\n",
       "      <td>9.5</td>\n",
       "      <td>35.0</td>\n",
       "      <td>116969</td>\n",
       "    </tr>\n",
       "    <tr>\n",
       "      <th>27</th>\n",
       "      <td>9.6</td>\n",
       "      <td>36.0</td>\n",
       "      <td>112635</td>\n",
       "    </tr>\n",
       "    <tr>\n",
       "      <th>28</th>\n",
       "      <td>10.3</td>\n",
       "      <td>37.0</td>\n",
       "      <td>122391</td>\n",
       "    </tr>\n",
       "    <tr>\n",
       "      <th>29</th>\n",
       "      <td>10.5</td>\n",
       "      <td>38.0</td>\n",
       "      <td>121872</td>\n",
       "    </tr>\n",
       "  </tbody>\n",
       "</table>\n",
       "</div>"
      ],
      "text/plain": [
       "    YearsExperience   Age  Salary\n",
       "0               1.1  21.0   39343\n",
       "1               1.3  21.5   46205\n",
       "2               1.5  21.7   37731\n",
       "3               2.0  22.0   43525\n",
       "4               2.2  22.2   39891\n",
       "5               2.9  23.0   56642\n",
       "6               3.0  23.0   60150\n",
       "7               3.2  23.3   54445\n",
       "8               3.2  23.3   64445\n",
       "9               3.7  23.6   57189\n",
       "10              3.9  23.9   63218\n",
       "11              4.0  24.0   55794\n",
       "12              4.0  24.0   56957\n",
       "13              4.1  24.0   57081\n",
       "14              4.5  25.0   61111\n",
       "15              4.9  25.0   67938\n",
       "16              5.1  26.0   66029\n",
       "17              5.3  27.0   83088\n",
       "18              5.9  28.0   81363\n",
       "19              6.0  29.0   93940\n",
       "20              6.8  30.0   91738\n",
       "21              7.1  30.0   98273\n",
       "22              7.9  31.0  101302\n",
       "23              8.2  32.0  113812\n",
       "24              8.7  33.0  109431\n",
       "25              9.0  34.0  105582\n",
       "26              9.5  35.0  116969\n",
       "27              9.6  36.0  112635\n",
       "28             10.3  37.0  122391\n",
       "29             10.5  38.0  121872"
      ]
     },
     "execution_count": 5,
     "metadata": {},
     "output_type": "execute_result"
    }
   ],
   "source": [
    "df = pd.read_csv('/kaggle/input/salary-data-with-age-and-experience/Salary_Data.csv')\n",
    "df"
   ]
  },
  {
   "cell_type": "code",
   "execution_count": 6,
   "id": "23c5cf17",
   "metadata": {
    "execution": {
     "iopub.execute_input": "2023-02-05T19:41:44.576194Z",
     "iopub.status.busy": "2023-02-05T19:41:44.575298Z",
     "iopub.status.idle": "2023-02-05T19:41:44.589028Z",
     "shell.execute_reply": "2023-02-05T19:41:44.587901Z"
    },
    "papermill": {
     "duration": 0.021606,
     "end_time": "2023-02-05T19:41:44.591385",
     "exception": false,
     "start_time": "2023-02-05T19:41:44.569779",
     "status": "completed"
    },
    "tags": []
   },
   "outputs": [
    {
     "data": {
      "text/plain": [
       "array([[-6.91005662e+07],\n",
       "       [-7.16280836e+07],\n",
       "       [-7.26233547e+07],\n",
       "       [-7.40900351e+07],\n",
       "       [-7.50853062e+07],\n",
       "       [-7.90795039e+07],\n",
       "       [-7.90663907e+07],\n",
       "       [-8.05724106e+07],\n",
       "       [-8.05724106e+07],\n",
       "       [-8.20390910e+07],\n",
       "       [-8.35451108e+07],\n",
       "       [-8.40427464e+07],\n",
       "       [-8.40427464e+07],\n",
       "       [-8.40296332e+07],\n",
       "       [-8.90846680e+07],\n",
       "       [-8.90322153e+07],\n",
       "       [-9.41134765e+07],\n",
       "       [-9.91947376e+07],\n",
       "       [-1.04223546e+08],\n",
       "       [-1.09317920e+08],\n",
       "       [-1.14320502e+08],\n",
       "       [-1.14281163e+08],\n",
       "       [-1.19283745e+08],\n",
       "       [-1.24351893e+08],\n",
       "       [-1.29393815e+08],\n",
       "       [-1.34461963e+08],\n",
       "       [-1.39503884e+08],\n",
       "       [-1.44598259e+08],\n",
       "       [-1.49613954e+08],\n",
       "       [-1.54695215e+08]])"
      ]
     },
     "execution_count": 6,
     "metadata": {},
     "output_type": "execute_result"
    }
   ],
   "source": [
    "X, y = df.iloc[:, :-1], df.iloc[:, -1]\n",
    "gd = GradientDescent()\n",
    "gd.fit(X, y)\n",
    "gd.predict(X)"
   ]
  },
  {
   "cell_type": "code",
   "execution_count": 7,
   "id": "d23f5fa0",
   "metadata": {
    "execution": {
     "iopub.execute_input": "2023-02-05T19:41:44.601074Z",
     "iopub.status.busy": "2023-02-05T19:41:44.600743Z",
     "iopub.status.idle": "2023-02-05T19:41:44.614746Z",
     "shell.execute_reply": "2023-02-05T19:41:44.613553Z"
    },
    "papermill": {
     "duration": 0.021582,
     "end_time": "2023-02-05T19:41:44.617136",
     "exception": false,
     "start_time": "2023-02-05T19:41:44.595554",
     "status": "completed"
    },
    "tags": []
   },
   "outputs": [
    {
     "data": {
      "text/plain": [
       "-18641337.427701164"
      ]
     },
     "execution_count": 7,
     "metadata": {},
     "output_type": "execute_result"
    }
   ],
   "source": [
    "sgd = SGDRegressor()\n",
    "sgd.fit(X, y)\n",
    "sgd.predict(X)\n",
    "sgd.score(X, y)"
   ]
  },
  {
   "cell_type": "code",
   "execution_count": 8,
   "id": "2fcd913b",
   "metadata": {
    "execution": {
     "iopub.execute_input": "2023-02-05T19:41:44.627974Z",
     "iopub.status.busy": "2023-02-05T19:41:44.627589Z",
     "iopub.status.idle": "2023-02-05T19:41:44.652982Z",
     "shell.execute_reply": "2023-02-05T19:41:44.651908Z"
    },
    "papermill": {
     "duration": 0.033834,
     "end_time": "2023-02-05T19:41:44.655401",
     "exception": false,
     "start_time": "2023-02-05T19:41:44.621567",
     "status": "completed"
    },
    "tags": []
   },
   "outputs": [
    {
     "data": {
      "text/plain": [
       "0.9599822609873284"
      ]
     },
     "execution_count": 8,
     "metadata": {},
     "output_type": "execute_result"
    }
   ],
   "source": [
    "lr = LinearRegression()\n",
    "lr.fit(X, y) \n",
    "lr.predict(X)\n",
    "lr.score(X, y)"
   ]
  },
  {
   "cell_type": "code",
   "execution_count": 9,
   "id": "d688a6d6",
   "metadata": {
    "execution": {
     "iopub.execute_input": "2023-02-05T19:41:44.666049Z",
     "iopub.status.busy": "2023-02-05T19:41:44.665685Z",
     "iopub.status.idle": "2023-02-05T19:41:44.672748Z",
     "shell.execute_reply": "2023-02-05T19:41:44.671490Z"
    },
    "papermill": {
     "duration": 0.015162,
     "end_time": "2023-02-05T19:41:44.674999",
     "exception": false,
     "start_time": "2023-02-05T19:41:44.659837",
     "status": "completed"
    },
    "tags": []
   },
   "outputs": [
    {
     "data": {
      "text/plain": [
       "array([ 1.73503571e+08, -9.99211930e+07])"
      ]
     },
     "execution_count": 9,
     "metadata": {},
     "output_type": "execute_result"
    }
   ],
   "source": [
    "sgd.coef_"
   ]
  },
  {
   "cell_type": "code",
   "execution_count": 10,
   "id": "e60a1d67",
   "metadata": {
    "execution": {
     "iopub.execute_input": "2023-02-05T19:41:44.686684Z",
     "iopub.status.busy": "2023-02-05T19:41:44.686212Z",
     "iopub.status.idle": "2023-02-05T19:41:44.693595Z",
     "shell.execute_reply": "2023-02-05T19:41:44.692493Z"
    },
    "papermill": {
     "duration": 0.016413,
     "end_time": "2023-02-05T19:41:44.696220",
     "exception": false,
     "start_time": "2023-02-05T19:41:44.679807",
     "status": "completed"
    },
    "tags": []
   },
   "outputs": [
    {
     "data": {
      "text/plain": [
       "array([1.71549816e+09])"
      ]
     },
     "execution_count": 10,
     "metadata": {},
     "output_type": "execute_result"
    }
   ],
   "source": [
    "sgd.intercept_"
   ]
  },
  {
   "cell_type": "code",
   "execution_count": null,
   "id": "18131186",
   "metadata": {
    "papermill": {
     "duration": 0.004429,
     "end_time": "2023-02-05T19:41:44.705438",
     "exception": false,
     "start_time": "2023-02-05T19:41:44.701009",
     "status": "completed"
    },
    "tags": []
   },
   "outputs": [],
   "source": []
  }
 ],
 "metadata": {
  "kernelspec": {
   "display_name": "Python 3",
   "language": "python",
   "name": "python3"
  },
  "language_info": {
   "codemirror_mode": {
    "name": "ipython",
    "version": 3
   },
   "file_extension": ".py",
   "mimetype": "text/x-python",
   "name": "python",
   "nbconvert_exporter": "python",
   "pygments_lexer": "ipython3",
   "version": "3.7.12"
  },
  "papermill": {
   "default_parameters": {},
   "duration": 12.0956,
   "end_time": "2023-02-05T19:41:45.633616",
   "environment_variables": {},
   "exception": null,
   "input_path": "__notebook__.ipynb",
   "output_path": "__notebook__.ipynb",
   "parameters": {},
   "start_time": "2023-02-05T19:41:33.538016",
   "version": "2.3.4"
  }
 },
 "nbformat": 4,
 "nbformat_minor": 5
}
