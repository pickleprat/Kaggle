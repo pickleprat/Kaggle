{
 "cells": [
  {
   "cell_type": "code",
   "execution_count": 1,
   "id": "51292ca0",
   "metadata": {
    "_cell_guid": "b1076dfc-b9ad-4769-8c92-a6c4dae69d19",
    "_uuid": "8f2839f25d086af736a60e9eeb907d3b93b6e0e5",
    "execution": {
     "iopub.execute_input": "2023-02-06T16:31:46.861863Z",
     "iopub.status.busy": "2023-02-06T16:31:46.861380Z",
     "iopub.status.idle": "2023-02-06T16:31:46.885758Z",
     "shell.execute_reply": "2023-02-06T16:31:46.884665Z"
    },
    "papermill": {
     "duration": 0.035158,
     "end_time": "2023-02-06T16:31:46.888780",
     "exception": false,
     "start_time": "2023-02-06T16:31:46.853622",
     "status": "completed"
    },
    "tags": []
   },
   "outputs": [
    {
     "name": "stdout",
     "output_type": "stream",
     "text": [
      "/kaggle/input/salary-data-with-age-and-experience/Salary_Data.csv\n"
     ]
    }
   ],
   "source": [
    "# This Python 3 environment comes with many helpful analytics libraries installed\n",
    "# It is defined by the kaggle/python Docker image: https://github.com/kaggle/docker-python\n",
    "# For example, here's several helpful packages to load\n",
    "\n",
    "import numpy as np # linear algebra\n",
    "import pandas as pd # data processing, CSV file I/O (e.g. pd.read_csv)\n",
    "\n",
    "# Input data files are available in the read-only \"../input/\" directory\n",
    "# For example, running this (by clicking run or pressing Shift+Enter) will list all files under the input directory\n",
    "\n",
    "import os\n",
    "for dirname, _, filenames in os.walk('/kaggle/input'):\n",
    "    for filename in filenames:\n",
    "        print(os.path.join(dirname, filename))\n",
    "\n",
    "# You can write up to 20GB to the current directory (/kaggle/working/) that gets preserved as output when you create a version using \"Save & Run All\" \n",
    "# You can also write temporary files to /kaggle/temp/, but they won't be saved outside of the current session"
   ]
  },
  {
   "cell_type": "code",
   "execution_count": 2,
   "id": "4920e7a4",
   "metadata": {
    "execution": {
     "iopub.execute_input": "2023-02-06T16:31:46.899804Z",
     "iopub.status.busy": "2023-02-06T16:31:46.899432Z",
     "iopub.status.idle": "2023-02-06T16:31:49.216614Z",
     "shell.execute_reply": "2023-02-06T16:31:49.215368Z"
    },
    "papermill": {
     "duration": 2.32549,
     "end_time": "2023-02-06T16:31:49.219495",
     "exception": false,
     "start_time": "2023-02-06T16:31:46.894005",
     "status": "completed"
    },
    "tags": []
   },
   "outputs": [],
   "source": [
    "import seaborn as sns \n",
    "import plotly.express as px \n",
    "from sklearn.linear_model import LinearRegression \n",
    "from sklearn.linear_model import SGDRegressor"
   ]
  },
  {
   "cell_type": "code",
   "execution_count": 3,
   "id": "453d27f7",
   "metadata": {
    "execution": {
     "iopub.execute_input": "2023-02-06T16:31:49.229594Z",
     "iopub.status.busy": "2023-02-06T16:31:49.229204Z",
     "iopub.status.idle": "2023-02-06T16:31:49.245786Z",
     "shell.execute_reply": "2023-02-06T16:31:49.244592Z"
    },
    "papermill": {
     "duration": 0.024395,
     "end_time": "2023-02-06T16:31:49.248017",
     "exception": false,
     "start_time": "2023-02-06T16:31:49.223622",
     "status": "completed"
    },
    "tags": []
   },
   "outputs": [],
   "source": [
    "class InputNotArrayException(Exception):\n",
    "    def __init__(self, message = 'Given input is not an array nor dataframe'):\n",
    "        self.message = message \n",
    "        super().__init__(message)\n",
    "\n",
    "        \n",
    "class BatchGradientDescent():\n",
    "    \n",
    "    def __init__(self, epochs = 100000, learning_rate = 0.0001, threshold = 0.0000001):\n",
    "        self.learning_rate = learning_rate \n",
    "        self.epochs = epochs \n",
    "        self.threshold = threshold\n",
    "        self.coef_ = None \n",
    "    \n",
    "    def fit(self, X, y):\n",
    "        \n",
    "        expression = not ((isinstance(X, np.ndarray) and isinstance(y, np.ndarray)) or (isinstance(X, pd.DataFrame) and isinstance(y, pd.DataFrame)) or (isinstance(X, pd.Series) and isinstance(y, pd.Series)))\n",
    "        if expression:\n",
    "            raise InputNotArrayException()\n",
    "        elif  (isinstance(X, pd.DataFrame) and isinstance(y, pd.DataFrame)) or (isinstance(X, pd.Series) and isinstance(y, pd.Series)):\n",
    "            X, y = X.values, y.values \n",
    "        rows, cols = X.shape\n",
    "\n",
    "        X = np.hstack([X, np.ones((rows, 1))])        \n",
    "        y = y.reshape(rows, 1)\n",
    "        B = np.zeros((cols + 1, 1))\n",
    "        \n",
    "        for i in range(self.epochs):\n",
    "            # Find the gradient at that point \n",
    "    \n",
    "            for j in range(cols+1):\n",
    "                slope = -2*np.sum(X[:, j].reshape((1, rows)).dot(y - X.dot(B)))\n",
    "                B[j] = B[j] - self.learning_rate*slope\n",
    "                \n",
    "                \n",
    "        self.coef_ = B\n",
    "        \n",
    "        return self \n",
    "    \n",
    "    def predict(self, X):\n",
    "        if isinstance(X, pd.DataFrame) or isinstance(X, pd.Series): X = X.values\n",
    "        elif not isinstance(X, np.ndarray): raise InputNotArrayException()\n",
    "        rows, cols = X.shape\n",
    "        X = np.hstack([X, np.ones((rows, 1))])\n",
    "        return X.dot(self.coef_)\n",
    "    \n",
    "    def score(self, X, y):\n",
    "        \n",
    "        if isinstance(X, pd.DataFrame) or isinstance(X, pd.Series): X = X.values\n",
    "        elif not isinstance(X, np.ndarray): raise InputNotArrayException()\n",
    "        rows, cols = X.shape\n",
    "        \n",
    "        y_preds = self.predict(X)\n",
    "        y_mean = np.mean(y)\n",
    "        explained_variance = (y_preds - y_mean)*(y_preds - y_mean)\n",
    "        total_variance = (y - y_mean)*(y - y_mean)\n",
    "        R2 =np.sum(explained_variance)/np.sum(total_variance)\n",
    "        return R2 \n",
    "    \n",
    "\n",
    "        \n",
    "        "
   ]
  },
  {
   "cell_type": "code",
   "execution_count": 4,
   "id": "78b460e5",
   "metadata": {
    "execution": {
     "iopub.execute_input": "2023-02-06T16:31:49.257900Z",
     "iopub.status.busy": "2023-02-06T16:31:49.257463Z",
     "iopub.status.idle": "2023-02-06T16:31:49.273779Z",
     "shell.execute_reply": "2023-02-06T16:31:49.272658Z"
    },
    "papermill": {
     "duration": 0.023937,
     "end_time": "2023-02-06T16:31:49.276057",
     "exception": false,
     "start_time": "2023-02-06T16:31:49.252120",
     "status": "completed"
    },
    "tags": []
   },
   "outputs": [],
   "source": [
    "class StochasticGradientDescent():\n",
    "    \n",
    "    def __init__(self, epochs = 100000, learning_rate = 0.0001, threshold = 0.0000001):\n",
    "        self.learning_rate = learning_rate \n",
    "        self.epochs = epochs \n",
    "        self.threshold = threshold\n",
    "        self.coef_ = None \n",
    "    \n",
    "    def fit(self, X, y):\n",
    "        \n",
    "        expression = not ((isinstance(X, np.ndarray) and isinstance(y, np.ndarray)) or (isinstance(X, pd.DataFrame) and isinstance(y, pd.DataFrame)) or (isinstance(X, pd.Series) and isinstance(y, pd.Series)))\n",
    "        if expression:\n",
    "            raise InputNotArrayException()\n",
    "        elif  (isinstance(X, pd.DataFrame) and isinstance(y, pd.DataFrame)) or (isinstance(X, pd.Series) and isinstance(y, pd.Series)):\n",
    "            X, y = X.values, y.values \n",
    "        \n",
    "        rows, cols = X.shape\n",
    "\n",
    "        X = np.hstack([X, np.ones((rows, 1))])        \n",
    "        y = y.reshape(rows, 1)\n",
    "        B = np.zeros((cols + 1, 1))\n",
    "        \n",
    "        for i in range(self.epochs):\n",
    "            # Find the gradient at that point \n",
    "            \n",
    "            for k in range(rows):\n",
    "                idx = np.random.randint(0, rows)\n",
    "                \n",
    "                for j in range(cols + 1):\n",
    "                    X_ = X[idx, :]\n",
    "                    slope = -2*(X_[j]*(y[idx] - X_.dot(B)))\n",
    "                    B[j] = B[j] - self.learning_rate*slope\n",
    "                \n",
    "        self.coef_ = B\n",
    "        \n",
    "        return self \n",
    "    \n",
    "    def predict(self, X):\n",
    "        if isinstance(X, pd.DataFrame) or isinstance(X, pd.Series): X = X.values\n",
    "        elif not isinstance(X, np.ndarray): raise InputNotArrayException()\n",
    "        rows, cols = X.shape\n",
    "        X = np.hstack([X, np.ones((rows, 1))])\n",
    "        return X.dot(self.coef_)\n",
    "    \n",
    "    def score(self, X, y):\n",
    "        \n",
    "        if isinstance(X, pd.DataFrame) or isinstance(X, pd.Series): X = X.values\n",
    "        elif not isinstance(X, np.ndarray): raise InputNotArrayException()\n",
    "        rows, cols = X.shape\n",
    "        \n",
    "        y_preds = self.predict(X)\n",
    "        y_mean = np.mean(y)\n",
    "        explained_variance = (y_preds - y_mean)*(y_preds - y_mean)\n",
    "        total_variance = (y - y_mean)*(y - y_mean)\n",
    "        R2 =np.sum(explained_variance)/np.sum(total_variance)\n",
    "        return R2 \n",
    "    "
   ]
  },
  {
   "cell_type": "code",
   "execution_count": 5,
   "id": "47c5bbdf",
   "metadata": {
    "execution": {
     "iopub.execute_input": "2023-02-06T16:31:49.285580Z",
     "iopub.status.busy": "2023-02-06T16:31:49.285204Z",
     "iopub.status.idle": "2023-02-06T16:31:49.321204Z",
     "shell.execute_reply": "2023-02-06T16:31:49.320118Z"
    },
    "papermill": {
     "duration": 0.043643,
     "end_time": "2023-02-06T16:31:49.323770",
     "exception": false,
     "start_time": "2023-02-06T16:31:49.280127",
     "status": "completed"
    },
    "tags": []
   },
   "outputs": [
    {
     "data": {
      "text/html": [
       "<div>\n",
       "<style scoped>\n",
       "    .dataframe tbody tr th:only-of-type {\n",
       "        vertical-align: middle;\n",
       "    }\n",
       "\n",
       "    .dataframe tbody tr th {\n",
       "        vertical-align: top;\n",
       "    }\n",
       "\n",
       "    .dataframe thead th {\n",
       "        text-align: right;\n",
       "    }\n",
       "</style>\n",
       "<table border=\"1\" class=\"dataframe\">\n",
       "  <thead>\n",
       "    <tr style=\"text-align: right;\">\n",
       "      <th></th>\n",
       "      <th>YearsExperience</th>\n",
       "      <th>Age</th>\n",
       "      <th>Salary</th>\n",
       "    </tr>\n",
       "  </thead>\n",
       "  <tbody>\n",
       "    <tr>\n",
       "      <th>0</th>\n",
       "      <td>1.1</td>\n",
       "      <td>21.0</td>\n",
       "      <td>39343</td>\n",
       "    </tr>\n",
       "    <tr>\n",
       "      <th>1</th>\n",
       "      <td>1.3</td>\n",
       "      <td>21.5</td>\n",
       "      <td>46205</td>\n",
       "    </tr>\n",
       "    <tr>\n",
       "      <th>2</th>\n",
       "      <td>1.5</td>\n",
       "      <td>21.7</td>\n",
       "      <td>37731</td>\n",
       "    </tr>\n",
       "    <tr>\n",
       "      <th>3</th>\n",
       "      <td>2.0</td>\n",
       "      <td>22.0</td>\n",
       "      <td>43525</td>\n",
       "    </tr>\n",
       "    <tr>\n",
       "      <th>4</th>\n",
       "      <td>2.2</td>\n",
       "      <td>22.2</td>\n",
       "      <td>39891</td>\n",
       "    </tr>\n",
       "    <tr>\n",
       "      <th>5</th>\n",
       "      <td>2.9</td>\n",
       "      <td>23.0</td>\n",
       "      <td>56642</td>\n",
       "    </tr>\n",
       "    <tr>\n",
       "      <th>6</th>\n",
       "      <td>3.0</td>\n",
       "      <td>23.0</td>\n",
       "      <td>60150</td>\n",
       "    </tr>\n",
       "    <tr>\n",
       "      <th>7</th>\n",
       "      <td>3.2</td>\n",
       "      <td>23.3</td>\n",
       "      <td>54445</td>\n",
       "    </tr>\n",
       "    <tr>\n",
       "      <th>8</th>\n",
       "      <td>3.2</td>\n",
       "      <td>23.3</td>\n",
       "      <td>64445</td>\n",
       "    </tr>\n",
       "    <tr>\n",
       "      <th>9</th>\n",
       "      <td>3.7</td>\n",
       "      <td>23.6</td>\n",
       "      <td>57189</td>\n",
       "    </tr>\n",
       "    <tr>\n",
       "      <th>10</th>\n",
       "      <td>3.9</td>\n",
       "      <td>23.9</td>\n",
       "      <td>63218</td>\n",
       "    </tr>\n",
       "    <tr>\n",
       "      <th>11</th>\n",
       "      <td>4.0</td>\n",
       "      <td>24.0</td>\n",
       "      <td>55794</td>\n",
       "    </tr>\n",
       "    <tr>\n",
       "      <th>12</th>\n",
       "      <td>4.0</td>\n",
       "      <td>24.0</td>\n",
       "      <td>56957</td>\n",
       "    </tr>\n",
       "    <tr>\n",
       "      <th>13</th>\n",
       "      <td>4.1</td>\n",
       "      <td>24.0</td>\n",
       "      <td>57081</td>\n",
       "    </tr>\n",
       "    <tr>\n",
       "      <th>14</th>\n",
       "      <td>4.5</td>\n",
       "      <td>25.0</td>\n",
       "      <td>61111</td>\n",
       "    </tr>\n",
       "    <tr>\n",
       "      <th>15</th>\n",
       "      <td>4.9</td>\n",
       "      <td>25.0</td>\n",
       "      <td>67938</td>\n",
       "    </tr>\n",
       "    <tr>\n",
       "      <th>16</th>\n",
       "      <td>5.1</td>\n",
       "      <td>26.0</td>\n",
       "      <td>66029</td>\n",
       "    </tr>\n",
       "    <tr>\n",
       "      <th>17</th>\n",
       "      <td>5.3</td>\n",
       "      <td>27.0</td>\n",
       "      <td>83088</td>\n",
       "    </tr>\n",
       "    <tr>\n",
       "      <th>18</th>\n",
       "      <td>5.9</td>\n",
       "      <td>28.0</td>\n",
       "      <td>81363</td>\n",
       "    </tr>\n",
       "    <tr>\n",
       "      <th>19</th>\n",
       "      <td>6.0</td>\n",
       "      <td>29.0</td>\n",
       "      <td>93940</td>\n",
       "    </tr>\n",
       "    <tr>\n",
       "      <th>20</th>\n",
       "      <td>6.8</td>\n",
       "      <td>30.0</td>\n",
       "      <td>91738</td>\n",
       "    </tr>\n",
       "    <tr>\n",
       "      <th>21</th>\n",
       "      <td>7.1</td>\n",
       "      <td>30.0</td>\n",
       "      <td>98273</td>\n",
       "    </tr>\n",
       "    <tr>\n",
       "      <th>22</th>\n",
       "      <td>7.9</td>\n",
       "      <td>31.0</td>\n",
       "      <td>101302</td>\n",
       "    </tr>\n",
       "    <tr>\n",
       "      <th>23</th>\n",
       "      <td>8.2</td>\n",
       "      <td>32.0</td>\n",
       "      <td>113812</td>\n",
       "    </tr>\n",
       "    <tr>\n",
       "      <th>24</th>\n",
       "      <td>8.7</td>\n",
       "      <td>33.0</td>\n",
       "      <td>109431</td>\n",
       "    </tr>\n",
       "    <tr>\n",
       "      <th>25</th>\n",
       "      <td>9.0</td>\n",
       "      <td>34.0</td>\n",
       "      <td>105582</td>\n",
       "    </tr>\n",
       "    <tr>\n",
       "      <th>26</th>\n",
       "      <td>9.5</td>\n",
       "      <td>35.0</td>\n",
       "      <td>116969</td>\n",
       "    </tr>\n",
       "    <tr>\n",
       "      <th>27</th>\n",
       "      <td>9.6</td>\n",
       "      <td>36.0</td>\n",
       "      <td>112635</td>\n",
       "    </tr>\n",
       "    <tr>\n",
       "      <th>28</th>\n",
       "      <td>10.3</td>\n",
       "      <td>37.0</td>\n",
       "      <td>122391</td>\n",
       "    </tr>\n",
       "    <tr>\n",
       "      <th>29</th>\n",
       "      <td>10.5</td>\n",
       "      <td>38.0</td>\n",
       "      <td>121872</td>\n",
       "    </tr>\n",
       "  </tbody>\n",
       "</table>\n",
       "</div>"
      ],
      "text/plain": [
       "    YearsExperience   Age  Salary\n",
       "0               1.1  21.0   39343\n",
       "1               1.3  21.5   46205\n",
       "2               1.5  21.7   37731\n",
       "3               2.0  22.0   43525\n",
       "4               2.2  22.2   39891\n",
       "5               2.9  23.0   56642\n",
       "6               3.0  23.0   60150\n",
       "7               3.2  23.3   54445\n",
       "8               3.2  23.3   64445\n",
       "9               3.7  23.6   57189\n",
       "10              3.9  23.9   63218\n",
       "11              4.0  24.0   55794\n",
       "12              4.0  24.0   56957\n",
       "13              4.1  24.0   57081\n",
       "14              4.5  25.0   61111\n",
       "15              4.9  25.0   67938\n",
       "16              5.1  26.0   66029\n",
       "17              5.3  27.0   83088\n",
       "18              5.9  28.0   81363\n",
       "19              6.0  29.0   93940\n",
       "20              6.8  30.0   91738\n",
       "21              7.1  30.0   98273\n",
       "22              7.9  31.0  101302\n",
       "23              8.2  32.0  113812\n",
       "24              8.7  33.0  109431\n",
       "25              9.0  34.0  105582\n",
       "26              9.5  35.0  116969\n",
       "27              9.6  36.0  112635\n",
       "28             10.3  37.0  122391\n",
       "29             10.5  38.0  121872"
      ]
     },
     "execution_count": 5,
     "metadata": {},
     "output_type": "execute_result"
    }
   ],
   "source": [
    "df = pd.read_csv('/kaggle/input/salary-data-with-age-and-experience/Salary_Data.csv')\n",
    "df"
   ]
  },
  {
   "cell_type": "code",
   "execution_count": 6,
   "id": "e4536462",
   "metadata": {
    "execution": {
     "iopub.execute_input": "2023-02-06T16:31:49.334670Z",
     "iopub.status.busy": "2023-02-06T16:31:49.334293Z",
     "iopub.status.idle": "2023-02-06T16:31:49.783559Z",
     "shell.execute_reply": "2023-02-06T16:31:49.782389Z"
    },
    "papermill": {
     "duration": 0.4586,
     "end_time": "2023-02-06T16:31:49.786775",
     "exception": false,
     "start_time": "2023-02-06T16:31:49.328175",
     "status": "completed"
    },
    "tags": []
   },
   "outputs": [
    {
     "data": {
      "text/plain": [
       "0.9573873206588385"
      ]
     },
     "execution_count": 6,
     "metadata": {},
     "output_type": "execute_result"
    }
   ],
   "source": [
    "X, y = df.iloc[:, :-1], df.iloc[:, -1]\n",
    "gd = BatchGradientDescent(learning_rate = 0.00003, epochs=10000)\n",
    "gd.fit(X.values, y.values)\n",
    "gd.score(X.values, y.values)"
   ]
  },
  {
   "cell_type": "code",
   "execution_count": 7,
   "id": "a82a55d8",
   "metadata": {
    "execution": {
     "iopub.execute_input": "2023-02-06T16:31:49.797543Z",
     "iopub.status.busy": "2023-02-06T16:31:49.797103Z",
     "iopub.status.idle": "2023-02-06T16:31:49.805769Z",
     "shell.execute_reply": "2023-02-06T16:31:49.804635Z"
    },
    "papermill": {
     "duration": 0.016759,
     "end_time": "2023-02-06T16:31:49.808065",
     "exception": false,
     "start_time": "2023-02-06T16:31:49.791306",
     "status": "completed"
    },
    "tags": []
   },
   "outputs": [
    {
     "data": {
      "text/plain": [
       "array([[ 38268.11828492],\n",
       "       [ 40369.18811638],\n",
       "       [ 42017.42604112],\n",
       "       [ 45836.13291516],\n",
       "       [ 47484.3708399 ],\n",
       "       [ 53404.14754539],\n",
       "       [ 54077.32253886],\n",
       "       [ 55876.50443251],\n",
       "       [ 55876.50443251],\n",
       "       [ 59695.21130655],\n",
       "       [ 61494.39320019],\n",
       "       [ 62318.51216256],\n",
       "       [ 62318.51216256],\n",
       "       [ 62991.68715603],\n",
       "       [ 67193.82681894],\n",
       "       [ 69886.5267928 ],\n",
       "       [ 72742.31646877],\n",
       "       [ 75598.10614475],\n",
       "       [ 81146.59579459],\n",
       "       [ 83329.2104771 ],\n",
       "       [ 90224.05011387],\n",
       "       [ 92243.57509427],\n",
       "       [ 99138.41473104],\n",
       "       [102667.37940048],\n",
       "       [107542.69405685],\n",
       "       [111071.6587263 ],\n",
       "       [115946.97338267],\n",
       "       [118129.58806518],\n",
       "       [124351.25270848],\n",
       "       [127207.04238446]])"
      ]
     },
     "execution_count": 7,
     "metadata": {},
     "output_type": "execute_result"
    }
   ],
   "source": [
    "gd.predict(X.values)"
   ]
  },
  {
   "cell_type": "code",
   "execution_count": 8,
   "id": "ad07827a",
   "metadata": {
    "execution": {
     "iopub.execute_input": "2023-02-06T16:31:49.818603Z",
     "iopub.status.busy": "2023-02-06T16:31:49.818214Z",
     "iopub.status.idle": "2023-02-06T16:31:50.601458Z",
     "shell.execute_reply": "2023-02-06T16:31:50.600147Z"
    },
    "papermill": {
     "duration": 0.791831,
     "end_time": "2023-02-06T16:31:50.604483",
     "exception": false,
     "start_time": "2023-02-06T16:31:49.812652",
     "status": "completed"
    },
    "tags": []
   },
   "outputs": [
    {
     "data": {
      "text/plain": [
       "<__main__.StochasticGradientDescent at 0x7f7095992dd0>"
      ]
     },
     "execution_count": 8,
     "metadata": {},
     "output_type": "execute_result"
    }
   ],
   "source": [
    "sgd = StochasticGradientDescent(epochs = 1000, learning_rate = 0.0001)\n",
    "sgd.fit(X.values, y.values)"
   ]
  },
  {
   "cell_type": "code",
   "execution_count": 9,
   "id": "c2dc7b63",
   "metadata": {
    "execution": {
     "iopub.execute_input": "2023-02-06T16:31:50.622164Z",
     "iopub.status.busy": "2023-02-06T16:31:50.621784Z",
     "iopub.status.idle": "2023-02-06T16:31:50.629952Z",
     "shell.execute_reply": "2023-02-06T16:31:50.628870Z"
    },
    "papermill": {
     "duration": 0.020533,
     "end_time": "2023-02-06T16:31:50.632525",
     "exception": false,
     "start_time": "2023-02-06T16:31:50.611992",
     "status": "completed"
    },
    "tags": []
   },
   "outputs": [
    {
     "data": {
      "text/plain": [
       "array([[ 39641.97894278],\n",
       "       [ 41766.94659443],\n",
       "       [ 43420.19164826],\n",
       "       [ 47238.82255097],\n",
       "       [ 48892.0676048 ],\n",
       "       [ 54835.66615916],\n",
       "       [ 55505.04782014],\n",
       "       [ 57315.53373991],\n",
       "       [ 57315.53373991],\n",
       "       [ 61134.16464262],\n",
       "       [ 62944.6505624 ],\n",
       "       [ 63771.27308931],\n",
       "       [ 63771.27308931],\n",
       "       [ 64440.65475029],\n",
       "       [ 68690.59005359],\n",
       "       [ 71368.1166975 ],\n",
       "       [ 74279.28867884],\n",
       "       [ 77190.46066018],\n",
       "       [ 82779.15928543],\n",
       "       [ 85020.94960579],\n",
       "       [ 91948.411553  ],\n",
       "       [ 93956.55653594],\n",
       "       [100884.01848315],\n",
       "       [104464.57212547],\n",
       "       [109383.88908975],\n",
       "       [112964.44273206],\n",
       "       [117883.75969634],\n",
       "       [120125.5500167 ],\n",
       "       [126383.63030293],\n",
       "       [129294.80228427]])"
      ]
     },
     "execution_count": 9,
     "metadata": {},
     "output_type": "execute_result"
    }
   ],
   "source": [
    "sgd.predict(X.values)"
   ]
  },
  {
   "cell_type": "code",
   "execution_count": 10,
   "id": "e6a77d81",
   "metadata": {
    "execution": {
     "iopub.execute_input": "2023-02-06T16:31:50.643516Z",
     "iopub.status.busy": "2023-02-06T16:31:50.643142Z",
     "iopub.status.idle": "2023-02-06T16:31:50.650453Z",
     "shell.execute_reply": "2023-02-06T16:31:50.649315Z"
    },
    "papermill": {
     "duration": 0.015386,
     "end_time": "2023-02-06T16:31:50.652742",
     "exception": false,
     "start_time": "2023-02-06T16:31:50.637356",
     "status": "completed"
    },
    "tags": []
   },
   "outputs": [
    {
     "data": {
      "text/plain": [
       "0.9764257426173055"
      ]
     },
     "execution_count": 10,
     "metadata": {},
     "output_type": "execute_result"
    }
   ],
   "source": [
    "sgd.score(X.values, y.values)"
   ]
  },
  {
   "cell_type": "code",
   "execution_count": 11,
   "id": "382648a9",
   "metadata": {
    "execution": {
     "iopub.execute_input": "2023-02-06T16:31:50.663992Z",
     "iopub.status.busy": "2023-02-06T16:31:50.663640Z",
     "iopub.status.idle": "2023-02-06T16:31:50.670163Z",
     "shell.execute_reply": "2023-02-06T16:31:50.669153Z"
    },
    "papermill": {
     "duration": 0.014882,
     "end_time": "2023-02-06T16:31:50.672528",
     "exception": false,
     "start_time": "2023-02-06T16:31:50.657646",
     "status": "completed"
    },
    "tags": []
   },
   "outputs": [
    {
     "data": {
      "text/plain": [
       "array([[6693.81660979],\n",
       "       [1572.40865938],\n",
       "       [-741.80117495]])"
      ]
     },
     "execution_count": 11,
     "metadata": {},
     "output_type": "execute_result"
    }
   ],
   "source": [
    "sgd.coef_"
   ]
  },
  {
   "cell_type": "code",
   "execution_count": 12,
   "id": "8636a062",
   "metadata": {
    "execution": {
     "iopub.execute_input": "2023-02-06T16:31:50.683897Z",
     "iopub.status.busy": "2023-02-06T16:31:50.683539Z",
     "iopub.status.idle": "2023-02-06T16:31:50.690340Z",
     "shell.execute_reply": "2023-02-06T16:31:50.689343Z"
    },
    "papermill": {
     "duration": 0.014918,
     "end_time": "2023-02-06T16:31:50.692483",
     "exception": false,
     "start_time": "2023-02-06T16:31:50.677565",
     "status": "completed"
    },
    "tags": []
   },
   "outputs": [
    {
     "data": {
      "text/plain": [
       "array([[6731.74993466],\n",
       "       [1509.43968904],\n",
       "       [-835.04011314]])"
      ]
     },
     "execution_count": 12,
     "metadata": {},
     "output_type": "execute_result"
    }
   ],
   "source": [
    "gd.coef_"
   ]
  },
  {
   "cell_type": "code",
   "execution_count": null,
   "id": "ad43468d",
   "metadata": {
    "papermill": {
     "duration": 0.004584,
     "end_time": "2023-02-06T16:31:50.702231",
     "exception": false,
     "start_time": "2023-02-06T16:31:50.697647",
     "status": "completed"
    },
    "tags": []
   },
   "outputs": [],
   "source": []
  }
 ],
 "metadata": {
  "kernelspec": {
   "display_name": "Python 3",
   "language": "python",
   "name": "python3"
  },
  "language_info": {
   "codemirror_mode": {
    "name": "ipython",
    "version": 3
   },
   "file_extension": ".py",
   "mimetype": "text/x-python",
   "name": "python",
   "nbconvert_exporter": "python",
   "pygments_lexer": "ipython3",
   "version": "3.7.12"
  },
  "papermill": {
   "default_parameters": {},
   "duration": 13.277664,
   "end_time": "2023-02-06T16:31:51.630667",
   "environment_variables": {},
   "exception": null,
   "input_path": "__notebook__.ipynb",
   "output_path": "__notebook__.ipynb",
   "parameters": {},
   "start_time": "2023-02-06T16:31:38.353003",
   "version": "2.3.4"
  }
 },
 "nbformat": 4,
 "nbformat_minor": 5
}
