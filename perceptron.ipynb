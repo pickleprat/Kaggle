{
 "cells": [
  {
   "cell_type": "code",
   "execution_count": 1,
   "id": "3504186e",
   "metadata": {
    "_cell_guid": "b1076dfc-b9ad-4769-8c92-a6c4dae69d19",
    "_uuid": "8f2839f25d086af736a60e9eeb907d3b93b6e0e5",
    "execution": {
     "iopub.execute_input": "2023-02-13T15:27:08.398197Z",
     "iopub.status.busy": "2023-02-13T15:27:08.397675Z",
     "iopub.status.idle": "2023-02-13T15:27:08.419490Z",
     "shell.execute_reply": "2023-02-13T15:27:08.417810Z"
    },
    "papermill": {
     "duration": 0.03201,
     "end_time": "2023-02-13T15:27:08.422152",
     "exception": false,
     "start_time": "2023-02-13T15:27:08.390142",
     "status": "completed"
    },
    "tags": []
   },
   "outputs": [
    {
     "name": "stdout",
     "output_type": "stream",
     "text": [
      "/kaggle/input/red-wine-quality-cortez-et-al-2009/winequality-red.csv\n"
     ]
    }
   ],
   "source": [
    "# This Python 3 environment comes with many helpful analytics libraries installed\n",
    "# It is defined by the kaggle/python Docker image: https://github.com/kaggle/docker-python\n",
    "# For example, here's several helpful packages to load\n",
    "\n",
    "import numpy as np # linear algebra\n",
    "import pandas as pd # data processing, CSV file I/O (e.g. pd.read_csv)\n",
    "\n",
    "# Input data files are available in the read-only \"../input/\" directory\n",
    "# For example, running this (by clicking run or pressing Shift+Enter) will list all files under the input directory\n",
    "\n",
    "import os\n",
    "for dirname, _, filenames in os.walk('/kaggle/input'):\n",
    "    for filename in filenames:\n",
    "        print(os.path.join(dirname, filename))\n",
    "\n",
    "# You can write up to 20GB to the current directory (/kaggle/working/) that gets preserved as output when you create a version using \"Save & Run All\" \n",
    "# You can also write temporary files to /kaggle/temp/, but they won't be saved outside of the current session"
   ]
  },
  {
   "cell_type": "code",
   "execution_count": 2,
   "id": "c8965b72",
   "metadata": {
    "execution": {
     "iopub.execute_input": "2023-02-13T15:27:08.432695Z",
     "iopub.status.busy": "2023-02-13T15:27:08.432257Z",
     "iopub.status.idle": "2023-02-13T15:27:10.720104Z",
     "shell.execute_reply": "2023-02-13T15:27:10.718921Z"
    },
    "papermill": {
     "duration": 2.296111,
     "end_time": "2023-02-13T15:27:10.722916",
     "exception": false,
     "start_time": "2023-02-13T15:27:08.426805",
     "status": "completed"
    },
    "tags": []
   },
   "outputs": [],
   "source": [
    "from sklearn.metrics import accuracy_score \n",
    "from sklearn.model_selection import train_test_split\n",
    "from sklearn.compose import ColumnTransformer\n",
    "from sklearn.preprocessing import StandardScaler \n",
    "from sklearn.pipeline import Pipeline \n",
    "from sklearn.linear_model import LogisticRegression\n",
    "from sklearn.base import TransformerMixin, BaseEstimator \n",
    "from sklearn.decomposition import PCA \n",
    "from plotly import express as px \n",
    "from sklearn import set_config \n",
    "set_config(display = 'diagram')"
   ]
  },
  {
   "cell_type": "code",
   "execution_count": 3,
   "id": "d2861d49",
   "metadata": {
    "execution": {
     "iopub.execute_input": "2023-02-13T15:27:10.733476Z",
     "iopub.status.busy": "2023-02-13T15:27:10.733068Z",
     "iopub.status.idle": "2023-02-13T15:27:10.746743Z",
     "shell.execute_reply": "2023-02-13T15:27:10.745513Z"
    },
    "papermill": {
     "duration": 0.021771,
     "end_time": "2023-02-13T15:27:10.749062",
     "exception": false,
     "start_time": "2023-02-13T15:27:10.727291",
     "status": "completed"
    },
    "tags": []
   },
   "outputs": [],
   "source": [
    "class FitModelBeforePredictingException(Exception):\n",
    "    \n",
    "    def __init__(self, message = 'You need to fit the model before predicting the values.'):\n",
    "        self.message = message \n",
    "        super().__init__(self.message)\n",
    "\n",
    "class Perceptron(TransformerMixin, BaseEstimator): \n",
    "    \n",
    "    def __init__(self, epoch = 1000, learning_rate = 0.001):\n",
    "        self.epoch = epoch \n",
    "        self.learning_rate = learning_rate \n",
    "        \n",
    "    def step(self, prediction):\n",
    "        if prediction > 0:\n",
    "            return 1 \n",
    "        else: return 0\n",
    "        \n",
    "    def fit(self, X: np.array, y: np.array):\n",
    "        rows, cols = X.shape \n",
    "        y = y.reshape((rows, 1))\n",
    "        self.w = np.ones((cols+1, 1))\n",
    "        \n",
    "        \n",
    "        X_ = np.insert(X, 0, 1, axis = 1)\n",
    "        \n",
    "        for i in range(self.epoch):\n",
    "            #acessing a random row\n",
    "            idx = np.random.randint(rows)\n",
    "        \n",
    "            y_prime = self.step(X_[idx, :].reshape((1, cols+1)).dot(self.w)[0][0]) \n",
    "            self.w = self.w + self.learning_rate*(y[idx] - y_prime)*X_[idx, :].reshape((cols+1, 1))\n",
    "            \n",
    "        return self\n",
    "    \n",
    "    def predict(self, X: np.array):\n",
    "        X_ = np.insert(X, 0, 1, axis = 1)\n",
    "        return pd.DataFrame(X_.dot(self.w)).iloc[:, 0].apply(self.step).values.reshape(-1, 1)\n",
    "            \n",
    "    def transform(self, X, y):\n",
    "        return self \n",
    "    \n",
    "    def score(self, X, y):\n",
    "        y_pred = self.predict(X)\n",
    "        return accuracy_score(y, y_pred)\n",
    "    \n"
   ]
  },
  {
   "cell_type": "code",
   "execution_count": 4,
   "id": "95ec1405",
   "metadata": {
    "execution": {
     "iopub.execute_input": "2023-02-13T15:27:10.760003Z",
     "iopub.status.busy": "2023-02-13T15:27:10.758846Z",
     "iopub.status.idle": "2023-02-13T15:27:10.813985Z",
     "shell.execute_reply": "2023-02-13T15:27:10.812635Z"
    },
    "papermill": {
     "duration": 0.06303,
     "end_time": "2023-02-13T15:27:10.816402",
     "exception": false,
     "start_time": "2023-02-13T15:27:10.753372",
     "status": "completed"
    },
    "tags": []
   },
   "outputs": [
    {
     "data": {
      "text/html": [
       "<div>\n",
       "<style scoped>\n",
       "    .dataframe tbody tr th:only-of-type {\n",
       "        vertical-align: middle;\n",
       "    }\n",
       "\n",
       "    .dataframe tbody tr th {\n",
       "        vertical-align: top;\n",
       "    }\n",
       "\n",
       "    .dataframe thead th {\n",
       "        text-align: right;\n",
       "    }\n",
       "</style>\n",
       "<table border=\"1\" class=\"dataframe\">\n",
       "  <thead>\n",
       "    <tr style=\"text-align: right;\">\n",
       "      <th></th>\n",
       "      <th>fixed acidity</th>\n",
       "      <th>volatile acidity</th>\n",
       "      <th>citric acid</th>\n",
       "      <th>residual sugar</th>\n",
       "      <th>chlorides</th>\n",
       "      <th>free sulfur dioxide</th>\n",
       "      <th>total sulfur dioxide</th>\n",
       "      <th>density</th>\n",
       "      <th>pH</th>\n",
       "      <th>sulphates</th>\n",
       "      <th>alcohol</th>\n",
       "      <th>quality</th>\n",
       "    </tr>\n",
       "  </thead>\n",
       "  <tbody>\n",
       "    <tr>\n",
       "      <th>0</th>\n",
       "      <td>7.4</td>\n",
       "      <td>0.700</td>\n",
       "      <td>0.00</td>\n",
       "      <td>1.9</td>\n",
       "      <td>0.076</td>\n",
       "      <td>11.0</td>\n",
       "      <td>34.0</td>\n",
       "      <td>0.99780</td>\n",
       "      <td>3.51</td>\n",
       "      <td>0.56</td>\n",
       "      <td>9.4</td>\n",
       "      <td>5</td>\n",
       "    </tr>\n",
       "    <tr>\n",
       "      <th>1</th>\n",
       "      <td>7.8</td>\n",
       "      <td>0.880</td>\n",
       "      <td>0.00</td>\n",
       "      <td>2.6</td>\n",
       "      <td>0.098</td>\n",
       "      <td>25.0</td>\n",
       "      <td>67.0</td>\n",
       "      <td>0.99680</td>\n",
       "      <td>3.20</td>\n",
       "      <td>0.68</td>\n",
       "      <td>9.8</td>\n",
       "      <td>5</td>\n",
       "    </tr>\n",
       "    <tr>\n",
       "      <th>2</th>\n",
       "      <td>7.8</td>\n",
       "      <td>0.760</td>\n",
       "      <td>0.04</td>\n",
       "      <td>2.3</td>\n",
       "      <td>0.092</td>\n",
       "      <td>15.0</td>\n",
       "      <td>54.0</td>\n",
       "      <td>0.99700</td>\n",
       "      <td>3.26</td>\n",
       "      <td>0.65</td>\n",
       "      <td>9.8</td>\n",
       "      <td>5</td>\n",
       "    </tr>\n",
       "    <tr>\n",
       "      <th>3</th>\n",
       "      <td>11.2</td>\n",
       "      <td>0.280</td>\n",
       "      <td>0.56</td>\n",
       "      <td>1.9</td>\n",
       "      <td>0.075</td>\n",
       "      <td>17.0</td>\n",
       "      <td>60.0</td>\n",
       "      <td>0.99800</td>\n",
       "      <td>3.16</td>\n",
       "      <td>0.58</td>\n",
       "      <td>9.8</td>\n",
       "      <td>6</td>\n",
       "    </tr>\n",
       "    <tr>\n",
       "      <th>4</th>\n",
       "      <td>7.4</td>\n",
       "      <td>0.700</td>\n",
       "      <td>0.00</td>\n",
       "      <td>1.9</td>\n",
       "      <td>0.076</td>\n",
       "      <td>11.0</td>\n",
       "      <td>34.0</td>\n",
       "      <td>0.99780</td>\n",
       "      <td>3.51</td>\n",
       "      <td>0.56</td>\n",
       "      <td>9.4</td>\n",
       "      <td>5</td>\n",
       "    </tr>\n",
       "    <tr>\n",
       "      <th>...</th>\n",
       "      <td>...</td>\n",
       "      <td>...</td>\n",
       "      <td>...</td>\n",
       "      <td>...</td>\n",
       "      <td>...</td>\n",
       "      <td>...</td>\n",
       "      <td>...</td>\n",
       "      <td>...</td>\n",
       "      <td>...</td>\n",
       "      <td>...</td>\n",
       "      <td>...</td>\n",
       "      <td>...</td>\n",
       "    </tr>\n",
       "    <tr>\n",
       "      <th>1594</th>\n",
       "      <td>6.2</td>\n",
       "      <td>0.600</td>\n",
       "      <td>0.08</td>\n",
       "      <td>2.0</td>\n",
       "      <td>0.090</td>\n",
       "      <td>32.0</td>\n",
       "      <td>44.0</td>\n",
       "      <td>0.99490</td>\n",
       "      <td>3.45</td>\n",
       "      <td>0.58</td>\n",
       "      <td>10.5</td>\n",
       "      <td>5</td>\n",
       "    </tr>\n",
       "    <tr>\n",
       "      <th>1595</th>\n",
       "      <td>5.9</td>\n",
       "      <td>0.550</td>\n",
       "      <td>0.10</td>\n",
       "      <td>2.2</td>\n",
       "      <td>0.062</td>\n",
       "      <td>39.0</td>\n",
       "      <td>51.0</td>\n",
       "      <td>0.99512</td>\n",
       "      <td>3.52</td>\n",
       "      <td>0.76</td>\n",
       "      <td>11.2</td>\n",
       "      <td>6</td>\n",
       "    </tr>\n",
       "    <tr>\n",
       "      <th>1596</th>\n",
       "      <td>6.3</td>\n",
       "      <td>0.510</td>\n",
       "      <td>0.13</td>\n",
       "      <td>2.3</td>\n",
       "      <td>0.076</td>\n",
       "      <td>29.0</td>\n",
       "      <td>40.0</td>\n",
       "      <td>0.99574</td>\n",
       "      <td>3.42</td>\n",
       "      <td>0.75</td>\n",
       "      <td>11.0</td>\n",
       "      <td>6</td>\n",
       "    </tr>\n",
       "    <tr>\n",
       "      <th>1597</th>\n",
       "      <td>5.9</td>\n",
       "      <td>0.645</td>\n",
       "      <td>0.12</td>\n",
       "      <td>2.0</td>\n",
       "      <td>0.075</td>\n",
       "      <td>32.0</td>\n",
       "      <td>44.0</td>\n",
       "      <td>0.99547</td>\n",
       "      <td>3.57</td>\n",
       "      <td>0.71</td>\n",
       "      <td>10.2</td>\n",
       "      <td>5</td>\n",
       "    </tr>\n",
       "    <tr>\n",
       "      <th>1598</th>\n",
       "      <td>6.0</td>\n",
       "      <td>0.310</td>\n",
       "      <td>0.47</td>\n",
       "      <td>3.6</td>\n",
       "      <td>0.067</td>\n",
       "      <td>18.0</td>\n",
       "      <td>42.0</td>\n",
       "      <td>0.99549</td>\n",
       "      <td>3.39</td>\n",
       "      <td>0.66</td>\n",
       "      <td>11.0</td>\n",
       "      <td>6</td>\n",
       "    </tr>\n",
       "  </tbody>\n",
       "</table>\n",
       "<p>1599 rows × 12 columns</p>\n",
       "</div>"
      ],
      "text/plain": [
       "      fixed acidity  volatile acidity  citric acid  residual sugar  chlorides  \\\n",
       "0               7.4             0.700         0.00             1.9      0.076   \n",
       "1               7.8             0.880         0.00             2.6      0.098   \n",
       "2               7.8             0.760         0.04             2.3      0.092   \n",
       "3              11.2             0.280         0.56             1.9      0.075   \n",
       "4               7.4             0.700         0.00             1.9      0.076   \n",
       "...             ...               ...          ...             ...        ...   \n",
       "1594            6.2             0.600         0.08             2.0      0.090   \n",
       "1595            5.9             0.550         0.10             2.2      0.062   \n",
       "1596            6.3             0.510         0.13             2.3      0.076   \n",
       "1597            5.9             0.645         0.12             2.0      0.075   \n",
       "1598            6.0             0.310         0.47             3.6      0.067   \n",
       "\n",
       "      free sulfur dioxide  total sulfur dioxide  density    pH  sulphates  \\\n",
       "0                    11.0                  34.0  0.99780  3.51       0.56   \n",
       "1                    25.0                  67.0  0.99680  3.20       0.68   \n",
       "2                    15.0                  54.0  0.99700  3.26       0.65   \n",
       "3                    17.0                  60.0  0.99800  3.16       0.58   \n",
       "4                    11.0                  34.0  0.99780  3.51       0.56   \n",
       "...                   ...                   ...      ...   ...        ...   \n",
       "1594                 32.0                  44.0  0.99490  3.45       0.58   \n",
       "1595                 39.0                  51.0  0.99512  3.52       0.76   \n",
       "1596                 29.0                  40.0  0.99574  3.42       0.75   \n",
       "1597                 32.0                  44.0  0.99547  3.57       0.71   \n",
       "1598                 18.0                  42.0  0.99549  3.39       0.66   \n",
       "\n",
       "      alcohol  quality  \n",
       "0         9.4        5  \n",
       "1         9.8        5  \n",
       "2         9.8        5  \n",
       "3         9.8        6  \n",
       "4         9.4        5  \n",
       "...       ...      ...  \n",
       "1594     10.5        5  \n",
       "1595     11.2        6  \n",
       "1596     11.0        6  \n",
       "1597     10.2        5  \n",
       "1598     11.0        6  \n",
       "\n",
       "[1599 rows x 12 columns]"
      ]
     },
     "execution_count": 4,
     "metadata": {},
     "output_type": "execute_result"
    }
   ],
   "source": [
    "wine = pd.read_csv('/kaggle/input/red-wine-quality-cortez-et-al-2009/winequality-red.csv')\n",
    "wine"
   ]
  },
  {
   "cell_type": "code",
   "execution_count": 5,
   "id": "e2b30a9e",
   "metadata": {
    "execution": {
     "iopub.execute_input": "2023-02-13T15:27:10.827753Z",
     "iopub.status.busy": "2023-02-13T15:27:10.827313Z",
     "iopub.status.idle": "2023-02-13T15:27:10.844610Z",
     "shell.execute_reply": "2023-02-13T15:27:10.843296Z"
    },
    "papermill": {
     "duration": 0.026117,
     "end_time": "2023-02-13T15:27:10.847360",
     "exception": false,
     "start_time": "2023-02-13T15:27:10.821243",
     "status": "completed"
    },
    "tags": []
   },
   "outputs": [],
   "source": [
    "wine['quality'] = wine.quality.map({5:0, 3:0, 4:0, 7:1, 8:1, 6:1})"
   ]
  },
  {
   "cell_type": "code",
   "execution_count": 6,
   "id": "4b469481",
   "metadata": {
    "execution": {
     "iopub.execute_input": "2023-02-13T15:27:10.858746Z",
     "iopub.status.busy": "2023-02-13T15:27:10.858338Z",
     "iopub.status.idle": "2023-02-13T15:27:10.902327Z",
     "shell.execute_reply": "2023-02-13T15:27:10.901115Z"
    },
    "papermill": {
     "duration": 0.05238,
     "end_time": "2023-02-13T15:27:10.904770",
     "exception": false,
     "start_time": "2023-02-13T15:27:10.852390",
     "status": "completed"
    },
    "tags": []
   },
   "outputs": [
    {
     "data": {
      "text/html": [
       "<style>#sk-6f5a9b34-6e9b-4331-994c-da5ba7486fe1 {color: black;background-color: white;}#sk-6f5a9b34-6e9b-4331-994c-da5ba7486fe1 pre{padding: 0;}#sk-6f5a9b34-6e9b-4331-994c-da5ba7486fe1 div.sk-toggleable {background-color: white;}#sk-6f5a9b34-6e9b-4331-994c-da5ba7486fe1 label.sk-toggleable__label {cursor: pointer;display: block;width: 100%;margin-bottom: 0;padding: 0.3em;box-sizing: border-box;text-align: center;}#sk-6f5a9b34-6e9b-4331-994c-da5ba7486fe1 label.sk-toggleable__label-arrow:before {content: \"▸\";float: left;margin-right: 0.25em;color: #696969;}#sk-6f5a9b34-6e9b-4331-994c-da5ba7486fe1 label.sk-toggleable__label-arrow:hover:before {color: black;}#sk-6f5a9b34-6e9b-4331-994c-da5ba7486fe1 div.sk-estimator:hover label.sk-toggleable__label-arrow:before {color: black;}#sk-6f5a9b34-6e9b-4331-994c-da5ba7486fe1 div.sk-toggleable__content {max-height: 0;max-width: 0;overflow: hidden;text-align: left;background-color: #f0f8ff;}#sk-6f5a9b34-6e9b-4331-994c-da5ba7486fe1 div.sk-toggleable__content pre {margin: 0.2em;color: black;border-radius: 0.25em;background-color: #f0f8ff;}#sk-6f5a9b34-6e9b-4331-994c-da5ba7486fe1 input.sk-toggleable__control:checked~div.sk-toggleable__content {max-height: 200px;max-width: 100%;overflow: auto;}#sk-6f5a9b34-6e9b-4331-994c-da5ba7486fe1 input.sk-toggleable__control:checked~label.sk-toggleable__label-arrow:before {content: \"▾\";}#sk-6f5a9b34-6e9b-4331-994c-da5ba7486fe1 div.sk-estimator input.sk-toggleable__control:checked~label.sk-toggleable__label {background-color: #d4ebff;}#sk-6f5a9b34-6e9b-4331-994c-da5ba7486fe1 div.sk-label input.sk-toggleable__control:checked~label.sk-toggleable__label {background-color: #d4ebff;}#sk-6f5a9b34-6e9b-4331-994c-da5ba7486fe1 input.sk-hidden--visually {border: 0;clip: rect(1px 1px 1px 1px);clip: rect(1px, 1px, 1px, 1px);height: 1px;margin: -1px;overflow: hidden;padding: 0;position: absolute;width: 1px;}#sk-6f5a9b34-6e9b-4331-994c-da5ba7486fe1 div.sk-estimator {font-family: monospace;background-color: #f0f8ff;border: 1px dotted black;border-radius: 0.25em;box-sizing: border-box;margin-bottom: 0.5em;}#sk-6f5a9b34-6e9b-4331-994c-da5ba7486fe1 div.sk-estimator:hover {background-color: #d4ebff;}#sk-6f5a9b34-6e9b-4331-994c-da5ba7486fe1 div.sk-parallel-item::after {content: \"\";width: 100%;border-bottom: 1px solid gray;flex-grow: 1;}#sk-6f5a9b34-6e9b-4331-994c-da5ba7486fe1 div.sk-label:hover label.sk-toggleable__label {background-color: #d4ebff;}#sk-6f5a9b34-6e9b-4331-994c-da5ba7486fe1 div.sk-serial::before {content: \"\";position: absolute;border-left: 1px solid gray;box-sizing: border-box;top: 2em;bottom: 0;left: 50%;}#sk-6f5a9b34-6e9b-4331-994c-da5ba7486fe1 div.sk-serial {display: flex;flex-direction: column;align-items: center;background-color: white;padding-right: 0.2em;padding-left: 0.2em;}#sk-6f5a9b34-6e9b-4331-994c-da5ba7486fe1 div.sk-item {z-index: 1;}#sk-6f5a9b34-6e9b-4331-994c-da5ba7486fe1 div.sk-parallel {display: flex;align-items: stretch;justify-content: center;background-color: white;}#sk-6f5a9b34-6e9b-4331-994c-da5ba7486fe1 div.sk-parallel::before {content: \"\";position: absolute;border-left: 1px solid gray;box-sizing: border-box;top: 2em;bottom: 0;left: 50%;}#sk-6f5a9b34-6e9b-4331-994c-da5ba7486fe1 div.sk-parallel-item {display: flex;flex-direction: column;position: relative;background-color: white;}#sk-6f5a9b34-6e9b-4331-994c-da5ba7486fe1 div.sk-parallel-item:first-child::after {align-self: flex-end;width: 50%;}#sk-6f5a9b34-6e9b-4331-994c-da5ba7486fe1 div.sk-parallel-item:last-child::after {align-self: flex-start;width: 50%;}#sk-6f5a9b34-6e9b-4331-994c-da5ba7486fe1 div.sk-parallel-item:only-child::after {width: 0;}#sk-6f5a9b34-6e9b-4331-994c-da5ba7486fe1 div.sk-dashed-wrapped {border: 1px dashed gray;margin: 0 0.4em 0.5em 0.4em;box-sizing: border-box;padding-bottom: 0.4em;background-color: white;position: relative;}#sk-6f5a9b34-6e9b-4331-994c-da5ba7486fe1 div.sk-label label {font-family: monospace;font-weight: bold;background-color: white;display: inline-block;line-height: 1.2em;}#sk-6f5a9b34-6e9b-4331-994c-da5ba7486fe1 div.sk-label-container {position: relative;z-index: 2;text-align: center;}#sk-6f5a9b34-6e9b-4331-994c-da5ba7486fe1 div.sk-container {/* jupyter's `normalize.less` sets `[hidden] { display: none; }` but bootstrap.min.css set `[hidden] { display: none !important; }` so we also need the `!important` here to be able to override the default hidden behavior on the sphinx rendered scikit-learn.org. See: https://github.com/scikit-learn/scikit-learn/issues/21755 */display: inline-block !important;position: relative;}#sk-6f5a9b34-6e9b-4331-994c-da5ba7486fe1 div.sk-text-repr-fallback {display: none;}</style><div id=\"sk-6f5a9b34-6e9b-4331-994c-da5ba7486fe1\" class=\"sk-top-container\"><div class=\"sk-text-repr-fallback\"><pre>Pipeline(steps=[(&#x27;preprocess&#x27;,\n",
       "                 ColumnTransformer(transformers=[(&#x27;preprocess&#x27;,\n",
       "                                                  StandardScaler(),\n",
       "                                                  slice(0, 11, None))])),\n",
       "                (&#x27;perceptron&#x27;, Perceptron(learning_rate=0.01))])</pre><b>Please rerun this cell to show the HTML repr or trust the notebook.</b></div><div class=\"sk-container\" hidden><div class=\"sk-item sk-dashed-wrapped\"><div class=\"sk-label-container\"><div class=\"sk-label sk-toggleable\"><input class=\"sk-toggleable__control sk-hidden--visually\" id=\"c7fa60fd-0f1c-42a3-8bc2-fcf60abcb8e8\" type=\"checkbox\" ><label for=\"c7fa60fd-0f1c-42a3-8bc2-fcf60abcb8e8\" class=\"sk-toggleable__label sk-toggleable__label-arrow\">Pipeline</label><div class=\"sk-toggleable__content\"><pre>Pipeline(steps=[(&#x27;preprocess&#x27;,\n",
       "                 ColumnTransformer(transformers=[(&#x27;preprocess&#x27;,\n",
       "                                                  StandardScaler(),\n",
       "                                                  slice(0, 11, None))])),\n",
       "                (&#x27;perceptron&#x27;, Perceptron(learning_rate=0.01))])</pre></div></div></div><div class=\"sk-serial\"><div class=\"sk-item sk-dashed-wrapped\"><div class=\"sk-label-container\"><div class=\"sk-label sk-toggleable\"><input class=\"sk-toggleable__control sk-hidden--visually\" id=\"2ff96f80-adda-48ce-96ad-af6a26f6bdf9\" type=\"checkbox\" ><label for=\"2ff96f80-adda-48ce-96ad-af6a26f6bdf9\" class=\"sk-toggleable__label sk-toggleable__label-arrow\">preprocess: ColumnTransformer</label><div class=\"sk-toggleable__content\"><pre>ColumnTransformer(transformers=[(&#x27;preprocess&#x27;, StandardScaler(),\n",
       "                                 slice(0, 11, None))])</pre></div></div></div><div class=\"sk-parallel\"><div class=\"sk-parallel-item\"><div class=\"sk-item\"><div class=\"sk-label-container\"><div class=\"sk-label sk-toggleable\"><input class=\"sk-toggleable__control sk-hidden--visually\" id=\"2dfeac9d-97e4-47c1-b42a-29dfaaf8fed3\" type=\"checkbox\" ><label for=\"2dfeac9d-97e4-47c1-b42a-29dfaaf8fed3\" class=\"sk-toggleable__label sk-toggleable__label-arrow\">preprocess</label><div class=\"sk-toggleable__content\"><pre>slice(0, 11, None)</pre></div></div></div><div class=\"sk-serial\"><div class=\"sk-item\"><div class=\"sk-estimator sk-toggleable\"><input class=\"sk-toggleable__control sk-hidden--visually\" id=\"e39803c6-029a-42f6-b0a4-e4572b05ae43\" type=\"checkbox\" ><label for=\"e39803c6-029a-42f6-b0a4-e4572b05ae43\" class=\"sk-toggleable__label sk-toggleable__label-arrow\">StandardScaler</label><div class=\"sk-toggleable__content\"><pre>StandardScaler()</pre></div></div></div></div></div></div></div></div><div class=\"sk-item\"><div class=\"sk-estimator sk-toggleable\"><input class=\"sk-toggleable__control sk-hidden--visually\" id=\"c7787e48-e76f-4f73-95b9-9c8a0d35e1ca\" type=\"checkbox\" ><label for=\"c7787e48-e76f-4f73-95b9-9c8a0d35e1ca\" class=\"sk-toggleable__label sk-toggleable__label-arrow\">Perceptron</label><div class=\"sk-toggleable__content\"><pre>Perceptron(learning_rate=0.01)</pre></div></div></div></div></div></div></div>"
      ],
      "text/plain": [
       "Pipeline(steps=[('preprocess',\n",
       "                 ColumnTransformer(transformers=[('preprocess',\n",
       "                                                  StandardScaler(),\n",
       "                                                  slice(0, 11, None))])),\n",
       "                ('perceptron', Perceptron(learning_rate=0.01))])"
      ]
     },
     "execution_count": 6,
     "metadata": {},
     "output_type": "execute_result"
    }
   ],
   "source": [
    "X, y = wine.drop(columns = ['quality']), wine.quality\n",
    "X_train, X_test, y_train, y_test = train_test_split(X, y, random_state = 0, train_size = 0.8)\n",
    "\n",
    "ct = ColumnTransformer([\n",
    "    ('preprocess', StandardScaler(), slice(0, 11))\n",
    "])\n",
    "\n",
    "#Creating the pipeline \n",
    "pipe = Pipeline([\n",
    "    ('preprocess', ct), \n",
    "    ('perceptron', Perceptron(epoch=1000, learning_rate = 0.01))\n",
    "])\n",
    "\n",
    "pipe.fit(X_train, y_train.values)"
   ]
  },
  {
   "cell_type": "code",
   "execution_count": 7,
   "id": "90fd2fb1",
   "metadata": {
    "execution": {
     "iopub.execute_input": "2023-02-13T15:27:10.916765Z",
     "iopub.status.busy": "2023-02-13T15:27:10.916373Z",
     "iopub.status.idle": "2023-02-13T15:27:10.929972Z",
     "shell.execute_reply": "2023-02-13T15:27:10.928842Z"
    },
    "papermill": {
     "duration": 0.02243,
     "end_time": "2023-02-13T15:27:10.932361",
     "exception": false,
     "start_time": "2023-02-13T15:27:10.909931",
     "status": "completed"
    },
    "tags": []
   },
   "outputs": [
    {
     "data": {
      "text/plain": [
       "0.7125"
      ]
     },
     "execution_count": 7,
     "metadata": {},
     "output_type": "execute_result"
    }
   ],
   "source": [
    "pipe.score(X_test, y_test)"
   ]
  },
  {
   "cell_type": "code",
   "execution_count": 8,
   "id": "72d40ebc",
   "metadata": {
    "execution": {
     "iopub.execute_input": "2023-02-13T15:27:10.949373Z",
     "iopub.status.busy": "2023-02-13T15:27:10.947861Z",
     "iopub.status.idle": "2023-02-13T15:27:10.966885Z",
     "shell.execute_reply": "2023-02-13T15:27:10.966142Z"
    },
    "papermill": {
     "duration": 0.032595,
     "end_time": "2023-02-13T15:27:10.970406",
     "exception": false,
     "start_time": "2023-02-13T15:27:10.937811",
     "status": "completed"
    },
    "tags": []
   },
   "outputs": [
    {
     "name": "stdout",
     "output_type": "stream",
     "text": [
      "<class 'pandas.core.frame.DataFrame'>\n",
      "Int64Index: 320 entries, 1109 to 1023\n",
      "Data columns (total 11 columns):\n",
      " #   Column                Non-Null Count  Dtype  \n",
      "---  ------                --------------  -----  \n",
      " 0   fixed acidity         320 non-null    float64\n",
      " 1   volatile acidity      320 non-null    float64\n",
      " 2   citric acid           320 non-null    float64\n",
      " 3   residual sugar        320 non-null    float64\n",
      " 4   chlorides             320 non-null    float64\n",
      " 5   free sulfur dioxide   320 non-null    float64\n",
      " 6   total sulfur dioxide  320 non-null    float64\n",
      " 7   density               320 non-null    float64\n",
      " 8   pH                    320 non-null    float64\n",
      " 9   sulphates             320 non-null    float64\n",
      " 10  alcohol               320 non-null    float64\n",
      "dtypes: float64(11)\n",
      "memory usage: 30.0 KB\n"
     ]
    }
   ],
   "source": [
    "X_test.info()"
   ]
  },
  {
   "cell_type": "code",
   "execution_count": 9,
   "id": "2d235324",
   "metadata": {
    "execution": {
     "iopub.execute_input": "2023-02-13T15:27:10.989740Z",
     "iopub.status.busy": "2023-02-13T15:27:10.989033Z",
     "iopub.status.idle": "2023-02-13T15:27:11.001055Z",
     "shell.execute_reply": "2023-02-13T15:27:10.999406Z"
    },
    "papermill": {
     "duration": 0.024812,
     "end_time": "2023-02-13T15:27:11.004263",
     "exception": false,
     "start_time": "2023-02-13T15:27:10.979451",
     "status": "completed"
    },
    "tags": []
   },
   "outputs": [
    {
     "data": {
      "text/plain": [
       "1    855\n",
       "0    744\n",
       "Name: quality, dtype: int64"
      ]
     },
     "execution_count": 9,
     "metadata": {},
     "output_type": "execute_result"
    }
   ],
   "source": [
    "wine.quality.value_counts()"
   ]
  },
  {
   "cell_type": "code",
   "execution_count": 10,
   "id": "8e85323a",
   "metadata": {
    "execution": {
     "iopub.execute_input": "2023-02-13T15:27:11.022288Z",
     "iopub.status.busy": "2023-02-13T15:27:11.021512Z",
     "iopub.status.idle": "2023-02-13T15:27:11.184401Z",
     "shell.execute_reply": "2023-02-13T15:27:11.169203Z"
    },
    "papermill": {
     "duration": 0.176243,
     "end_time": "2023-02-13T15:27:11.188995",
     "exception": false,
     "start_time": "2023-02-13T15:27:11.012752",
     "status": "completed"
    },
    "tags": []
   },
   "outputs": [
    {
     "data": {
      "text/html": [
       "<style>#sk-b51483ab-614e-4200-b34b-d115e9f35ee5 {color: black;background-color: white;}#sk-b51483ab-614e-4200-b34b-d115e9f35ee5 pre{padding: 0;}#sk-b51483ab-614e-4200-b34b-d115e9f35ee5 div.sk-toggleable {background-color: white;}#sk-b51483ab-614e-4200-b34b-d115e9f35ee5 label.sk-toggleable__label {cursor: pointer;display: block;width: 100%;margin-bottom: 0;padding: 0.3em;box-sizing: border-box;text-align: center;}#sk-b51483ab-614e-4200-b34b-d115e9f35ee5 label.sk-toggleable__label-arrow:before {content: \"▸\";float: left;margin-right: 0.25em;color: #696969;}#sk-b51483ab-614e-4200-b34b-d115e9f35ee5 label.sk-toggleable__label-arrow:hover:before {color: black;}#sk-b51483ab-614e-4200-b34b-d115e9f35ee5 div.sk-estimator:hover label.sk-toggleable__label-arrow:before {color: black;}#sk-b51483ab-614e-4200-b34b-d115e9f35ee5 div.sk-toggleable__content {max-height: 0;max-width: 0;overflow: hidden;text-align: left;background-color: #f0f8ff;}#sk-b51483ab-614e-4200-b34b-d115e9f35ee5 div.sk-toggleable__content pre {margin: 0.2em;color: black;border-radius: 0.25em;background-color: #f0f8ff;}#sk-b51483ab-614e-4200-b34b-d115e9f35ee5 input.sk-toggleable__control:checked~div.sk-toggleable__content {max-height: 200px;max-width: 100%;overflow: auto;}#sk-b51483ab-614e-4200-b34b-d115e9f35ee5 input.sk-toggleable__control:checked~label.sk-toggleable__label-arrow:before {content: \"▾\";}#sk-b51483ab-614e-4200-b34b-d115e9f35ee5 div.sk-estimator input.sk-toggleable__control:checked~label.sk-toggleable__label {background-color: #d4ebff;}#sk-b51483ab-614e-4200-b34b-d115e9f35ee5 div.sk-label input.sk-toggleable__control:checked~label.sk-toggleable__label {background-color: #d4ebff;}#sk-b51483ab-614e-4200-b34b-d115e9f35ee5 input.sk-hidden--visually {border: 0;clip: rect(1px 1px 1px 1px);clip: rect(1px, 1px, 1px, 1px);height: 1px;margin: -1px;overflow: hidden;padding: 0;position: absolute;width: 1px;}#sk-b51483ab-614e-4200-b34b-d115e9f35ee5 div.sk-estimator {font-family: monospace;background-color: #f0f8ff;border: 1px dotted black;border-radius: 0.25em;box-sizing: border-box;margin-bottom: 0.5em;}#sk-b51483ab-614e-4200-b34b-d115e9f35ee5 div.sk-estimator:hover {background-color: #d4ebff;}#sk-b51483ab-614e-4200-b34b-d115e9f35ee5 div.sk-parallel-item::after {content: \"\";width: 100%;border-bottom: 1px solid gray;flex-grow: 1;}#sk-b51483ab-614e-4200-b34b-d115e9f35ee5 div.sk-label:hover label.sk-toggleable__label {background-color: #d4ebff;}#sk-b51483ab-614e-4200-b34b-d115e9f35ee5 div.sk-serial::before {content: \"\";position: absolute;border-left: 1px solid gray;box-sizing: border-box;top: 2em;bottom: 0;left: 50%;}#sk-b51483ab-614e-4200-b34b-d115e9f35ee5 div.sk-serial {display: flex;flex-direction: column;align-items: center;background-color: white;padding-right: 0.2em;padding-left: 0.2em;}#sk-b51483ab-614e-4200-b34b-d115e9f35ee5 div.sk-item {z-index: 1;}#sk-b51483ab-614e-4200-b34b-d115e9f35ee5 div.sk-parallel {display: flex;align-items: stretch;justify-content: center;background-color: white;}#sk-b51483ab-614e-4200-b34b-d115e9f35ee5 div.sk-parallel::before {content: \"\";position: absolute;border-left: 1px solid gray;box-sizing: border-box;top: 2em;bottom: 0;left: 50%;}#sk-b51483ab-614e-4200-b34b-d115e9f35ee5 div.sk-parallel-item {display: flex;flex-direction: column;position: relative;background-color: white;}#sk-b51483ab-614e-4200-b34b-d115e9f35ee5 div.sk-parallel-item:first-child::after {align-self: flex-end;width: 50%;}#sk-b51483ab-614e-4200-b34b-d115e9f35ee5 div.sk-parallel-item:last-child::after {align-self: flex-start;width: 50%;}#sk-b51483ab-614e-4200-b34b-d115e9f35ee5 div.sk-parallel-item:only-child::after {width: 0;}#sk-b51483ab-614e-4200-b34b-d115e9f35ee5 div.sk-dashed-wrapped {border: 1px dashed gray;margin: 0 0.4em 0.5em 0.4em;box-sizing: border-box;padding-bottom: 0.4em;background-color: white;position: relative;}#sk-b51483ab-614e-4200-b34b-d115e9f35ee5 div.sk-label label {font-family: monospace;font-weight: bold;background-color: white;display: inline-block;line-height: 1.2em;}#sk-b51483ab-614e-4200-b34b-d115e9f35ee5 div.sk-label-container {position: relative;z-index: 2;text-align: center;}#sk-b51483ab-614e-4200-b34b-d115e9f35ee5 div.sk-container {/* jupyter's `normalize.less` sets `[hidden] { display: none; }` but bootstrap.min.css set `[hidden] { display: none !important; }` so we also need the `!important` here to be able to override the default hidden behavior on the sphinx rendered scikit-learn.org. See: https://github.com/scikit-learn/scikit-learn/issues/21755 */display: inline-block !important;position: relative;}#sk-b51483ab-614e-4200-b34b-d115e9f35ee5 div.sk-text-repr-fallback {display: none;}</style><div id=\"sk-b51483ab-614e-4200-b34b-d115e9f35ee5\" class=\"sk-top-container\"><div class=\"sk-text-repr-fallback\"><pre>Pipeline(steps=[(&#x27;preprocess&#x27;,\n",
       "                 ColumnTransformer(transformers=[(&#x27;preprocess&#x27;,\n",
       "                                                  StandardScaler(),\n",
       "                                                  slice(0, 11, None))])),\n",
       "                (&#x27;logistic&#x27;, LogisticRegression())])</pre><b>Please rerun this cell to show the HTML repr or trust the notebook.</b></div><div class=\"sk-container\" hidden><div class=\"sk-item sk-dashed-wrapped\"><div class=\"sk-label-container\"><div class=\"sk-label sk-toggleable\"><input class=\"sk-toggleable__control sk-hidden--visually\" id=\"863027ce-5318-4bb8-bae4-3e2ec14fb836\" type=\"checkbox\" ><label for=\"863027ce-5318-4bb8-bae4-3e2ec14fb836\" class=\"sk-toggleable__label sk-toggleable__label-arrow\">Pipeline</label><div class=\"sk-toggleable__content\"><pre>Pipeline(steps=[(&#x27;preprocess&#x27;,\n",
       "                 ColumnTransformer(transformers=[(&#x27;preprocess&#x27;,\n",
       "                                                  StandardScaler(),\n",
       "                                                  slice(0, 11, None))])),\n",
       "                (&#x27;logistic&#x27;, LogisticRegression())])</pre></div></div></div><div class=\"sk-serial\"><div class=\"sk-item sk-dashed-wrapped\"><div class=\"sk-label-container\"><div class=\"sk-label sk-toggleable\"><input class=\"sk-toggleable__control sk-hidden--visually\" id=\"2aaeb570-4e3c-442d-a298-a8c55e9a385c\" type=\"checkbox\" ><label for=\"2aaeb570-4e3c-442d-a298-a8c55e9a385c\" class=\"sk-toggleable__label sk-toggleable__label-arrow\">preprocess: ColumnTransformer</label><div class=\"sk-toggleable__content\"><pre>ColumnTransformer(transformers=[(&#x27;preprocess&#x27;, StandardScaler(),\n",
       "                                 slice(0, 11, None))])</pre></div></div></div><div class=\"sk-parallel\"><div class=\"sk-parallel-item\"><div class=\"sk-item\"><div class=\"sk-label-container\"><div class=\"sk-label sk-toggleable\"><input class=\"sk-toggleable__control sk-hidden--visually\" id=\"6e985920-9862-4942-9c1b-0a21e178d8eb\" type=\"checkbox\" ><label for=\"6e985920-9862-4942-9c1b-0a21e178d8eb\" class=\"sk-toggleable__label sk-toggleable__label-arrow\">preprocess</label><div class=\"sk-toggleable__content\"><pre>slice(0, 11, None)</pre></div></div></div><div class=\"sk-serial\"><div class=\"sk-item\"><div class=\"sk-estimator sk-toggleable\"><input class=\"sk-toggleable__control sk-hidden--visually\" id=\"2ee4872a-17bd-40aa-8efe-620ebfa90b6c\" type=\"checkbox\" ><label for=\"2ee4872a-17bd-40aa-8efe-620ebfa90b6c\" class=\"sk-toggleable__label sk-toggleable__label-arrow\">StandardScaler</label><div class=\"sk-toggleable__content\"><pre>StandardScaler()</pre></div></div></div></div></div></div></div></div><div class=\"sk-item\"><div class=\"sk-estimator sk-toggleable\"><input class=\"sk-toggleable__control sk-hidden--visually\" id=\"e9e5feed-bfb5-433b-8a67-061f6e1759f3\" type=\"checkbox\" ><label for=\"e9e5feed-bfb5-433b-8a67-061f6e1759f3\" class=\"sk-toggleable__label sk-toggleable__label-arrow\">LogisticRegression</label><div class=\"sk-toggleable__content\"><pre>LogisticRegression()</pre></div></div></div></div></div></div></div>"
      ],
      "text/plain": [
       "Pipeline(steps=[('preprocess',\n",
       "                 ColumnTransformer(transformers=[('preprocess',\n",
       "                                                  StandardScaler(),\n",
       "                                                  slice(0, 11, None))])),\n",
       "                ('logistic', LogisticRegression())])"
      ]
     },
     "execution_count": 10,
     "metadata": {},
     "output_type": "execute_result"
    }
   ],
   "source": [
    "X, y = wine.drop(columns = ['quality']), wine.quality\n",
    "X_train, X_test, y_train, y_test = train_test_split(X, y, random_state = 0, train_size = 0.8)\n",
    "\n",
    "ct = ColumnTransformer([\n",
    "    ('preprocess', StandardScaler(), slice(0, 11))\n",
    "])\n",
    "\n",
    "#Creating the pipeline \n",
    "pipe = Pipeline([\n",
    "    ('preprocess', ct), \n",
    "    ('logistic', LogisticRegression())\n",
    "])\n",
    "\n",
    "pipe.fit(X_train, y_train)"
   ]
  },
  {
   "cell_type": "code",
   "execution_count": 11,
   "id": "06cabbd7",
   "metadata": {
    "execution": {
     "iopub.execute_input": "2023-02-13T15:27:11.221056Z",
     "iopub.status.busy": "2023-02-13T15:27:11.220153Z",
     "iopub.status.idle": "2023-02-13T15:27:11.232388Z",
     "shell.execute_reply": "2023-02-13T15:27:11.231110Z"
    },
    "papermill": {
     "duration": 0.027544,
     "end_time": "2023-02-13T15:27:11.236193",
     "exception": false,
     "start_time": "2023-02-13T15:27:11.208649",
     "status": "completed"
    },
    "tags": []
   },
   "outputs": [
    {
     "data": {
      "text/plain": [
       "0.75"
      ]
     },
     "execution_count": 11,
     "metadata": {},
     "output_type": "execute_result"
    }
   ],
   "source": [
    "pipe.score(X_test, y_test)"
   ]
  },
  {
   "cell_type": "code",
   "execution_count": 12,
   "id": "76d229d5",
   "metadata": {
    "execution": {
     "iopub.execute_input": "2023-02-13T15:27:11.255939Z",
     "iopub.status.busy": "2023-02-13T15:27:11.255158Z",
     "iopub.status.idle": "2023-02-13T15:27:11.292909Z",
     "shell.execute_reply": "2023-02-13T15:27:11.291157Z"
    },
    "papermill": {
     "duration": 0.05169,
     "end_time": "2023-02-13T15:27:11.296487",
     "exception": false,
     "start_time": "2023-02-13T15:27:11.244797",
     "status": "completed"
    },
    "tags": []
   },
   "outputs": [],
   "source": [
    "pca = PCA(n_components = 2)\n",
    "vis = pd.DataFrame( pca.fit_transform(ct.fit_transform(X_train)), columns = ['f1', 'f2']) "
   ]
  },
  {
   "cell_type": "code",
   "execution_count": 13,
   "id": "44feb37f",
   "metadata": {
    "execution": {
     "iopub.execute_input": "2023-02-13T15:27:11.317315Z",
     "iopub.status.busy": "2023-02-13T15:27:11.316517Z",
     "iopub.status.idle": "2023-02-13T15:27:12.549116Z",
     "shell.execute_reply": "2023-02-13T15:27:12.547959Z"
    },
    "papermill": {
     "duration": 1.246521,
     "end_time": "2023-02-13T15:27:12.551848",
     "exception": false,
     "start_time": "2023-02-13T15:27:11.305327",
     "status": "completed"
    },
    "tags": []
   },
   "outputs": [
    {
     "data": {
      "text/html": [
       "        <script type=\"text/javascript\">\n",
       "        window.PlotlyConfig = {MathJaxConfig: 'local'};\n",
       "        if (window.MathJax && window.MathJax.Hub && window.MathJax.Hub.Config) {window.MathJax.Hub.Config({SVG: {font: \"STIX-Web\"}});}\n",
       "        if (typeof require !== 'undefined') {\n",
       "        require.undef(\"plotly\");\n",
       "        requirejs.config({\n",
       "            paths: {\n",
       "                'plotly': ['https://cdn.plot.ly/plotly-2.18.0.min']\n",
       "            }\n",
       "        });\n",
       "        require(['plotly'], function(Plotly) {\n",
       "            window._Plotly = Plotly;\n",
       "        });\n",
       "        }\n",
       "        </script>\n",
       "        "
      ]
     },
     "metadata": {},
     "output_type": "display_data"
    },
    {
     "data": {
      "text/html": [
       "<div>                            <div id=\"2e284730-8d52-4acd-a60a-4a2d0884b6e7\" class=\"plotly-graph-div\" style=\"height:525px; width:100%;\"></div>            <script type=\"text/javascript\">                require([\"plotly\"], function(Plotly) {                    window.PLOTLYENV=window.PLOTLYENV || {};                                    if (document.getElementById(\"2e284730-8d52-4acd-a60a-4a2d0884b6e7\")) {                    Plotly.newPlot(                        \"2e284730-8d52-4acd-a60a-4a2d0884b6e7\",                        [{\"hovertemplate\":\"x=%{x}<br>y=%{y}<br>color=%{marker.color}<extra></extra>\",\"legendgroup\":\"\",\"marker\":{\"color\":[0,0,0,1,1,1,1,1,0,0,1,0,0,0,0,1,1,0,0,0,0,0,0,1,1,0,1,0,0,1,0,1,0,1,1,0,1,1,0,1,0,1,0,1,0,0,1,1,1,0,1,1,0,1,1,0,0,1,1,1,1,1,0,1,1,1,1,0,1,1,1,1,0,1,0,1,0,0,1,0,0,0,0,1,0,0,1,1,0,1,1,0,0,1,1,1,1,1,0,0,1,0,1,0,0,1,0,1,0,0,0,1,1,1,0,1,1,0,0,1,1,1,1,0,0,0,0,1,1,0,1,0,1,1,1,0,0,0,1,1,0,1,0,1,0,1,1,0,0,0,1,1,0,0,1,0,0,0,1,0,0,1,0,1,0,1,0,1,1,0,1,0,0,1,0,1,0,0,0,1,1,0,0,1,0,1,1,1,1,1,1,1,0,1,1,0,0,0,0,0,1,0,1,1,0,0,1,0,1,1,1,0,0,1,0,0,1,0,1,0,1,0,0,1,0,1,1,0,1,0,1,1,0,0,0,0,1,1,1,0,0,1,0,0,0,1,1,1,1,0,1,0,0,0,1,1,0,1,1,1,0,1,1,0,0,1,1,0,0,1,0,0,1,0,1,1,1,0,0,1,1,0,1,0,1,1,1,1,0,1,0,0,0,0,1,1,0,0,0,0,0,1,0,1,0,1,0,0,0,0,1,0,1,1,0,1,1,0,1,1,1,0,0,1,1,1,1,1,0,1,0,1,0,1,0,1,0,0,1,1,1,0,1,1,1,1,0,1,1,1,0,0,0,0,0,1,0,1,0,0,1,1,1,0,0,0,0,1,1,1,1,0,0,0,1,1,1,0,0,1,1,1,0,0,1,1,1,0,0,1,1,0,1,1,0,1,1,1,1,0,1,1,0,1,1,1,0,1,0,1,0,1,0,1,0,1,1,0,0,0,0,1,0,0,1,1,0,0,1,0,1,0,1,1,0,1,0,1,1,1,0,1,1,0,1,1,0,1,0,0,1,1,1,0,0,0,1,1,1,0,1,1,0,1,0,0,0,1,1,0,1,0,0,1,1,0,1,0,1,1,0,0,1,1,0,1,0,1,1,1,1,1,0,0,1,0,1,0,0,0,1,1,0,0,1,0,0,1,1,1,0,1,0,1,1,1,1,1,1,1,0,1,0,0,0,0,1,1,1,0,0,1,1,1,1,1,1,1,0,1,1,0,1,1,1,1,0,1,0,1,1,0,0,0,0,1,1,1,1,1,0,1,1,0,1,0,0,0,0,1,0,0,1,1,1,0,1,0,0,1,0,0,1,1,1,0,0,0,1,1,0,1,1,0,0,0,0,0,0,1,0,1,0,1,0,0,1,0,0,0,1,1,1,0,1,1,1,0,1,1,1,1,0,1,1,1,1,0,1,0,1,0,1,1,0,1,0,0,0,1,0,0,0,1,1,1,1,0,0,0,1,0,1,1,0,1,1,0,0,0,1,0,0,1,1,1,1,1,1,1,0,0,1,0,0,1,0,1,0,1,1,0,0,1,1,1,1,0,0,0,1,0,1,0,0,0,0,0,0,1,1,1,0,0,0,0,0,1,0,1,0,0,1,1,0,0,0,1,0,0,0,0,0,0,1,1,0,1,0,1,0,1,1,1,0,1,0,1,1,1,0,1,0,0,0,0,0,0,0,0,0,1,0,1,0,1,1,1,1,1,0,1,0,1,1,1,1,1,1,0,1,0,0,0,1,1,0,1,1,1,1,0,1,0,1,0,0,0,1,0,1,1,1,1,0,0,0,1,1,1,1,1,1,0,1,0,1,1,0,0,0,0,0,1,0,0,0,0,0,0,0,0,1,1,0,0,1,1,1,0,0,1,0,1,1,0,1,0,0,0,1,0,1,0,0,1,1,0,0,1,0,0,1,1,1,1,1,1,0,1,1,1,1,1,1,1,1,1,0,0,0,1,0,0,1,0,0,0,1,0,1,0,0,0,0,1,1,1,1,1,0,1,1,1,0,1,0,1,1,0,1,0,1,0,0,1,0,1,1,1,1,1,1,1,1,0,1,1,0,1,1,1,0,1,1,1,1,1,1,1,0,1,0,0,0,1,1,1,1,1,1,0,0,0,1,1,1,0,0,0,0,1,0,0,1,1,0,1,0,1,0,0,0,1,1,0,0,1,0,1,1,1,1,1,1,1,1,0,0,0,1,1,0,0,1,0,1,0,1,0,1,0,0,0,0,0,0,1,1,0,1,0,1,1,1,1,0,1,0,1,1,0,1,1,1,0,1,1,0,1,0,0,0,0,1,1,1,1,1,0,1,1,1,1,1,1,0,1,0,0,1,1,0,0,1,0,0,1,1,1,0,1,0,1,1,0,0,1,1,1,1,1,0,0,1,0,1,1,1,1,0,1,0,0,0,1,0,0,0,1,0,0,0,1,0,0,1,0,0,1,0,0,0,0,1,1,1,0,1,1,1,0,1,0,0,1,1,0,1,0,0,1,0,0,1,1,1,1,0,0,0,1,0,1,0,0,1,1,1,1,1,1,1,1,0,1,0,1,1,1,0,0,1,1,0,1,1,1,1,0,1,0,1,1,0,0,0,0,0,0,1,0,0,1,1,0,0,1,0,1,0,0,1,1,1,0,1,0,1,0,1,0,0,1,0,0,1,0,1,1,1,1,0,1,0,1,1,1,0,1,0,1,0,1,1,1,1,0,1,0,0,1,0,1,1,1,1,1,1,0,1,1,0,1,1,1,0,0,1,0,0,0,0,1,0,1,1,1,1,0,0,1,1,1,0,1,0,1,1,0,1,1,1,0,1,1,0,0,1,0,0,0,1,1,0,0,0,0,0,1,1,1,1,0,0,0,1,1,0],\"coloraxis\":\"coloraxis\",\"symbol\":\"circle\"},\"mode\":\"markers\",\"name\":\"\",\"showlegend\":false,\"x\":[1.0583816739101508,1.9552456969189107,1.5666406434292688,-3.6523079937318155,-1.1770047740100353,-2.532325008747852,-0.040052774662646416,-0.9168735741123859,2.7784287882412593,0.6145115739254563,0.7980264503607426,-0.7126479358495537,1.4514876970045911,-0.4905342258828364,-1.155979587916649,0.07593953668148658,1.2264010977062718,-1.2572623046324447,0.06389735189324545,-0.4759032801708882,-1.431845051504344,-1.017429175334719,-1.3472384413239102,-1.907547749931203,-1.6705337535318674,2.6293464279732848,-0.24675554516278356,4.005091679343145,0.2557123919871731,2.101700566547261,-0.39723951415819664,1.3096848226489157,-0.302653018725061,1.3920654376121762,-0.9068159814013034,-2.2553592651677588,0.13904116657925691,-3.6140850450743542,-1.3274590348725157,2.175227350356151,-1.1448745225351984,0.001575198094325957,1.2731435479566404,1.5476236795275589,-0.6022942479765047,0.2510470723038325,-1.172618847132069,0.9507531842713924,-1.3380301620429575,-2.4624398675081913,0.15985496258156695,-2.3117172200612486,0.2485506030328403,-2.1068600945538543,-1.0034853737409357,0.871296244923172,1.3032066053527542,-0.9539271482101507,-1.85902336391026,-1.8211370581175654,0.2005531945434768,0.391564948016701,1.2396611220199787,-1.5242882681672565,-0.2307792744698048,-1.8233090925433717,2.8498298965114417,1.2202580423753835,-1.3950752307409553,1.5758805293205491,0.9850223730869817,0.0969756666211637,-0.6571145207558344,3.0834962206341165,-3.9117347043343784,1.1151995092925282,2.953456582667662,0.3648555171768659,5.500088487930473,-0.22011514215701958,-0.11229988727350396,-0.22011514215701958,-0.4480177657321781,-2.1860286621395293,0.7591177074657641,0.9207850771798892,-2.209017167012806,0.7264695641463778,-0.6030575006577735,-1.3139052820296364,-1.4885404057530487,-0.3246899305902385,0.632000986917924,-2.0222439224477213,-2.5705366174809434,0.5917488935134954,1.6892620797211135,-0.3280019234914727,-0.7624122980380384,-2.586332588070122,2.925772031520925,3.066552037557136,2.1012323488486357,2.554915259798797,-0.6634917425655452,-3.4960387939021005,2.2817152055141214,2.958947180328304,0.7141465112613998,0.56673743936602,1.381961085739886,-1.3950752307409553,0.2968705348002036,0.19374551637968904,1.71927882433989,0.7320604019253546,-1.408376322757257,-0.0481273283421015,3.195241320608017,-1.3434124822657407,-0.7244350791903815,-0.5742097110139933,1.4229090521101495,-1.9192711157644016,1.9542218278817447,0.35445336011166,-1.2572623046324447,-0.09253088138087832,0.10438035702696254,-1.4109677868476165,0.507139611640198,-0.9851225502684167,-3.6294311225532834,-0.18112458418135458,-2.2937782910111415,-0.4889988582348269,2.089571377813575,0.10957167158613228,0.9897338172723161,-0.15184865175956616,-1.1725546701259406,2.5532525426574413,-2.342389358216901,-0.4559751989669013,-1.5287912497894345,0.5782587330279989,2.9211812344254726,-1.7365001807193912,-0.09992005045387682,0.792214641742049,-2.9686493815756987,-0.8329450846599764,-1.6554495078317237,-0.5625499430568376,2.832690616012148,-0.30284837779558427,0.6822383435175671,0.20645050805866055,-1.8233090925433717,0.10957167158613228,3.3367995130049013,-0.4845177287610189,-1.4093848422008954,1.175110007224694,0.7591177074657641,0.41966707957834787,0.8984847370532953,0.92915286528214,-1.408376322757257,-1.4900051181418856,-0.05920084922406154,-1.1972867556253142,-0.3935145565337285,-1.848616674073769,0.49201621430073944,-2.6391514722107026,-1.8202974592951877,0.31943803810460175,1.9269892110690214,-0.8646567179433795,1.4406772292201617,0.34627202833597887,2.3264897580075377,0.45941458806173346,0.2861169394785208,3.0373602132451203,0.7731106035733392,-1.1038718465081714,1.5969406989702353,-1.8546562695910787,1.037066506462217,-1.9037176759848629,0.3316434217925072,2.404320977202641,2.0390439544899754,-2.4030579877867964,-0.9706806754394236,-0.47479291588115907,-0.49772860944929426,-1.6229251600386168,0.07438620727011805,0.17201833888502302,3.285253864190287,0.29801051357652847,-0.05684158902880913,0.7250116911691854,-1.0533524504352092,-2.6036415127446038,4.356940524968353,-0.6101084788421304,3.434882907693525,-1.129430956232473,-0.08501195774518641,2.4260467011557285,0.5551559970048101,0.21293359770327352,0.39522423113935684,-0.01152701582684999,0.9568504050586868,5.056769851446281,2.4156051721090406,-2.4481961098803557,1.9194694313510494,2.3189183639781916,-2.3223809823872754,-2.6679281860245587,-0.7591553661575122,2.719099041247715,-0.8667795205972322,-0.1442234232601577,-0.9434411096974836,-1.5632212601152775,2.2915694576169514,-2.1559390358198307,-0.35520468344019973,-0.5462969280591967,2.4292743030518555,-0.13940791794720872,0.8483338225071179,-0.6586013023146606,0.4303014829015931,-0.5262872695059705,2.5740647841325117,0.8608366944916658,-2.1582401836961322,1.176311485887252,-1.235872947900109,-0.040052774662646416,-1.130895071443489,0.6261333054926436,3.3166627247515703,-0.7145667601783986,0.38193106096417107,0.32398398635129927,1.2264010977062718,-0.3342853215705465,0.8808058047937708,1.3225362516859163,3.6786637564416305,1.4903359668233047,3.634587480351714,-0.02666604917294531,0.7933265069858915,-2.378111514105732,-1.3135499912095474,-1.0140651054065384,-0.14930337178442052,-1.1367253983539611,-2.0618617348167083,1.7823305039928816,-1.2576492925722182,-1.572638940354147,1.4114975216254502,-1.7135744702305264,-1.2645558828719963,-1.5632212601152775,1.710671035784087,2.554915259798797,0.7499848580566664,3.699348369402237,3.825558762814466,0.7538516216734993,0.4448993927438031,-2.035414707236993,1.5640540304615789,1.229320452006573,-0.7179518783416777,2.796473659957274,0.5146855889399482,-1.1072046370472512,-1.74545945386342,1.0561186696039302,-1.5121665755331797,-1.5287912497894345,3.2748971934547,-3.4532756655865504,-3.171145958450186,1.6113740571960746,-0.5721127628109268,-0.8083198488808863,1.3908161372745427,-0.7795491079046062,-3.1663528003356944,2.7548351142374243,-2.5031765772219594,-1.5197051952896667,-0.35465323646648844,0.5253056210781851,-0.26827849707845786,-1.706524428984547,4.568447245475768,0.46101332969078146,0.513160080124815,-2.1840220357903597,-0.6248714657729177,0.6026250247681932,0.04234486292696668,1.323357265959887,-1.3084460840093692,0.7678293738636642,-0.8586895694583886,-0.6765275724894775,2.1895665578512618,2.472379400064194,-2.5320130087557104,-0.3798609907744741,-1.7053314750836377,3.1705873324184775,-0.8225429156418549,3.606796187067449,-0.026204551793378505,3.7192547217957896,-1.6916597946774574,1.3986376854297666,-2.9926226239895595,-2.265846539186999,-1.8946464052998775,-0.17300666503694598,-1.1135896746935636,1.1789990473316514,-1.5765957168043738,0.9713449352055155,0.14790356222769652,3.349076017522839,0.44705628793341873,0.026973459750841706,0.6811271382411248,-1.5432119926546184,-1.1877839959937009,-0.38231610646899106,1.0150081030614915,-0.34271751701158887,-1.1413667779809629,-0.6955098256036487,-0.8471141432744934,-1.1799056476140972,-1.3814561379117531,-0.5073895777288832,-1.3810141023347156,0.37358301192964555,-0.8780780721517609,0.5550534434758199,0.4709438634755041,1.179292298498218,-0.6003394664421824,4.198716738467945,-2.746622489150303,2.295863976081772,0.6662673759476838,2.269774973314278,-0.031146688722266485,-0.2806844515551232,-0.8092514881089017,-3.171145958450186,2.204183935569878,-2.8713368282769873,-1.3279768897242816,2.4829401593657665,2.383303461371341,0.2561246404571974,0.5030366246913499,2.2721828147647525,1.8135204990838327,-0.1662263026239205,0.4760883012054033,-2.439178379625599,4.352120626445324,-1.8886447184366721,-2.6441532850674268,-0.1460754545470326,0.6717948739276427,-1.5024431290326077,0.5978102541791223,-1.7363370024643683,2.710766466714298,2.130158631857525,1.4470784124312572,-1.2337094077717055,-0.1156039964254561,-1.623216270057136,-0.3623829665376459,-1.3738627652469564,-0.6352837673775846,-0.5373185324778362,4.760157040712696,2.5340128747845645,0.35445336011166,-2.044236749711399,0.03584460586625795,-0.9227640051660787,1.2198675524650295,2.367951599352664,-3.483938756339645,-0.32441452097423645,2.0387830854971223,-3.291730666876463,-3.6669988125301676,-1.2059992712426926,2.5651348822394024,-2.746622489150303,-0.008751939056987054,1.3838223523843913,-1.7135744702305264,0.11585460005698976,1.2149981361596385,0.7852240979404612,2.7611038121384994,-1.5019030954357104,-1.6791905497938215,-0.934467912781345,-1.2642274726615472,-1.4054359298619419,-2.3042056277530474,1.992153549350857,0.8986841002189918,-1.6191310241329488,-0.7297158383748854,-1.4897775745528272,0.6871431923886322,-2.4029860530413516,0.32692939853854525,0.7655356960379794,-0.15260875879558622,-1.7758505472246866,-0.9210226309455185,-0.4163858035446219,0.9865022481183703,-0.403518137256162,0.8018960628693123,4.5770659262840265,1.522324320697544,-0.5774520207212335,-0.7609237813119737,2.9220008726860227,-0.05549453167621562,-1.566975975751286,-0.9320621861364755,-4.013419872644813,-3.3118938991271394,0.2786783707483849,-0.450339098910354,-0.764550368514252,-1.376610817248062,-1.978589232764753,-0.2252391882358016,1.048222482452341,3.0907681671556837,1.028171222112882,-0.4784981209045472,1.466996388438169,-1.8711878613193698,-0.03161340201027402,1.4599836844698069,-1.8755411814180305,-1.588096514020815,-1.4870622077804507,0.92915286528214,-1.7365001807193912,-1.0277269387698338,0.833914374843896,1.391028181903546,0.2800358459942142,1.9297408930553768,-4.234805486932552,0.2786783707483849,1.7074340330971256,-1.253838511015734,1.610866091359153,0.4505022100125536,-1.3279768897242816,-1.7105627871172868,4.36490681318961,-2.3229914532699785,-1.1072270518062226,-0.5913597923713245,-1.7152175159382765,3.699348369402237,-1.6667289027064873,0.8641149280825569,0.6838012097776884,0.3712760426154879,-2.1635244599459216,0.9402024722259479,-0.2914714881328471,0.7933265069858915,-0.2693756641493302,-1.9705799228531493,-1.2645558828719963,-0.8082964963932118,-0.10961888981754749,0.48049193240394356,-3.8473039743664565,-1.6084041379285348,1.7581216168634106,-1.3587034294749338,0.07423130157905933,-2.338403928067622,-1.2504195317215545,2.0540952351885684,0.39510063569214837,1.0561186696039302,-1.0906515804325012,-0.11229988727350396,2.0171388595366446,-3.494412894057628,0.2861169394785208,-1.6481357554329483,-1.8528337580979102,0.9631673850516562,-2.1559390358198307,-2.9270767369558413,-2.4099756434624187,-1.3843096507602524,-1.754291678963273,2.2551408548638174,-0.06049873358483524,-2.4447098252751256,2.3076216161076952,2.243919039520328,1.3319641449068593,-1.6264599976021494,3.2415564438471476,0.9687564538383396,-1.4593069338526377,1.0037068828054319,-0.14930337178442052,-0.5517011702470423,-4.083485740259443,-0.5191569208160065,-1.9037176759848629,0.4196169719127928,0.7538516216734993,-1.3772345197187907,-1.5296184264764738,-1.863551895659188,1.3385058294490702,-0.4845177287610189,0.391564948016701,1.948237021833432,-2.605144477908276,-3.4955854325287365,-1.2642274726615472,1.4284954195742317,-1.9482259584222512,0.04533760399675707,-1.767324018813597,-1.1290139956640668,-1.1682448581272689,0.21079602345823736,-3.5259151883338373,-2.2746848746644073,-1.208713860482385,-0.7131256918141878,0.6197311420583222,3.25146859204724,-0.5462969280591967,-1.2642274726615472,2.5879107311458953,-1.2629798533965177,1.4250018300912697,-2.586732944827333,0.3062272236359684,3.0373602132451203,0.17992593116969297,0.9877103717505142,-1.607631159372135,-1.0600125900996542,-1.3472384413239102,1.3373404713057169,-1.3385025302437392,-1.4458901224654712,2.1012323488486357,-1.4326226736251857,-1.191471525379087,-1.640424506565944,-1.1084662996647388,-1.0208479634593455,-1.4339181128200196,-3.027810388908666,-1.5109926812570924,-1.380899361713018,-2.0929310124608564,1.8278812880261521,-0.3010118681260335,-1.442416602844201,4.711635174871755,-0.905510270845203,-1.927952044144864,-0.35465323646648844,3.3540135234962034,2.468368827114277,1.3127848011090246,0.43319799573943807,-0.9706806754394236,0.6338298262338155,-2.439178379625599,-0.40670126039484894,0.5531226506835144,-1.083801724980051,0.2337444345538065,3.0288690281584674,-1.1953085541823067,-0.667638146405022,1.4372142975788342,0.6456282096357827,0.8858332002393975,-0.21162506966772654,-1.623216270057136,1.9255613029373504,2.2621191540292074,-0.0949963883592226,-0.8268378603978516,-0.5774520207212335,-1.478666133472469,0.8475379607902462,-1.0020652687160077,-1.0479042383653527,-3.2095647855476277,1.0207707908658497,-2.0825575795012514,-1.5203026171205511,0.47687790690466403,0.6430630478946107,-3.0405296260222565,1.028171222112882,0.810326058405096,2.9632514178058935,-0.5065130159425276,-0.719602633051475,-1.0811844997937574,-1.0591028709541987,3.5565205455392066,3.204295348152391,1.4114975216254502,-1.5814530897826602,-2.9366248202755494,-0.5913597923713245,0.7499848580566664,-3.0321187151392905,1.2401055363601465,-0.117903010511161,1.3983389718711026,-0.16088207677078498,1.9532312010062427,4.400655821206531,1.3373404713057169,0.07375079943413834,-0.8181376378954327,1.9667966479548704,1.3206865521158655,5.042816642497384,-0.9015546447059634,2.276288432884454,-1.1690229402611798,1.0985377343559308,-2.342496200550362,-1.1290139956640668,0.6981858439258205,-1.5720938587322948,-1.3587034294749338,1.3419994900034946,0.43875278571767035,2.9220008726860227,1.0670222779521683,2.7548351142374243,0.23907381972164926,3.0608578502453905,2.0614937974991374,2.62524873132736,0.8475379607902462,-0.13595190815097233,-1.1341708898802472,1.9738760701921692,-0.7765476234894935,1.2624294116247399,-0.01652162655021195,-0.8918695181432392,0.7653070684089426,-0.05598512291893553,0.24855202955919167,-0.14466318080515508,-0.5921596354454436,0.8984847370532953,-0.9519612470864838,0.688194868319755,0.5633398473881716,-1.4521442128804098,-3.2367894189367714,0.7686595145694142,-0.067685866932226,2.8643292523866912,0.2759749294507594,1.4286266107989778,0.03366442390611355,-1.898083501440206,0.18651740420532617,-3.5119743717095813,-1.928625728794515,-1.2279514753776206,0.2053156907378881,0.7625458498103045,-0.2806844515551232,2.281376749182126,1.4262399055317598,0.39522423113935684,-1.3279768897242816,-1.9192711157644016,2.7749051959020066,3.286584670528062,1.7808954194279134,0.7771165582670911,-0.11767267033707056,-1.1079420142995144,0.016964249152527425,-3.273909607843346,3.50531963096779,-0.6563184114330038,3.8432077141626837,2.5830525905476027,1.9667966479548704,-1.5518292203291844,0.44705628793341873,-1.5434226791260262,-0.5889909993880275,-0.7567607340362523,-2.970610978127946,-0.26640419571644336,0.4658648797098106,-0.20701080321749202,0.45858677214444976,1.5808930460734114,1.9908822663895833,-2.543897218277723,0.8858332002393975,-0.38120370924030267,-1.9076995037396198,-0.19792615703328809,-2.3579164073387244,-1.693867310907577,0.49997379581685836,-1.2805025138286656,0.36521888042844053,0.2800358459942142,-1.5109926812570924,0.11910196390278517,1.2356154296942028,-0.32441452097423645,1.4188208899235542,0.1712899913376307,1.084311028283692,-1.4993328520773148,-0.7505477622072102,-0.5191569208160065,0.632634197529865,0.4945612736050149,1.612251409461945,-1.6554495078317237,-0.6501247706917429,-0.06452264088020214,-0.7847617114113048,-1.3279768897242816,1.947309062963139,-0.3074011036641424,0.6586914491122239,-1.1688174213927203,-0.3096845953878785,-0.37463828385274855,1.9719657268696182,-3.03704687758114,-2.5547955676178344,-1.5544544185459066,-2.338403928067622,0.604498794572019,-0.21349691800886478,1.05838167391018,-0.7882787871562583,1.490665538066504,-0.21338923527404963,0.6893641285000256,0.19454923023651172,0.8116107254793067,-1.6028638227970593,-0.34695035800909857,0.3467228431735416,0.27409632466440925,0.08628979216832088,-1.542445707413166,3.560993779847687,-0.5934181695723328,-1.15301266596884,-0.6314895993300799,-2.2459880432040342,-1.885990159084628,-1.7805362678832757,-2.7110099400622865,-1.1072270518062226,0.6130097486072253,-1.1413667779809629,-2.095141446475991,-0.4480177657321781,-0.6359593705884831,-1.3472384413239102,-0.8358921002157055,-0.09214837439817676,-1.4707039663033104,1.1464396885483887,0.24855202955919167,0.9340450233290977,1.26712924065053,-0.2628585851464673,-1.6374985416815724,0.7423220972621744,-1.624321705206378,-1.4663873312959235,-3.522772739941306,1.9821233189167804,-0.2355786518646937,-0.7343900317177714,1.3249315816732805,-1.4288983375354123,0.9008432111812612,-1.2629798533965177,-1.493260322993944,-0.9508988426435983,-2.7744176666248586,1.9519224986053345,-1.2429473483780258,-1.2069263083357311,-0.2570134988686087,-2.1031199983927626,-1.3251067774061407,3.494390634175141,-3.182687850999815,2.352213979186825,-1.4274715956190887,-2.1031199983927626,-2.7144357523846585,1.2704412291256884,0.8765402649845904,0.711225506954393,0.6681068262217309,2.7081303376945325,1.8805656963026964,-5.386790575396904,3.7556914114016,4.310450779486595,-2.5445627137619597,3.349076017522839,-0.8418821396419708,-1.5743848279628476,-0.2914714881328471,-1.3076761330560154,2.5740647841325117,-0.03445631828040478,-2.3631304720811914,-2.342389358216901,1.1674049350568152,-2.8719132011398303,0.765809062596857,3.3035410484803855,-0.36220744968340535,0.823309123306374,0.7797696668540556,-0.32019820650007397,1.1778702242094468,-3.8719435395471127,-2.2578484172504276,3.0834962206341165,0.11910196390278517,0.12438260233365092,2.3118583505383987,0.12704088875821493,-0.5631856691872857,3.093028149371652,1.0469342340765633,2.085797544489992,-1.5494131816411563,1.9574011407003455,2.1380850141663656,-0.8183693027817822,-1.2341358952891832,3.7324359842896433,2.936234856454672,-1.435736229972795,2.2195496503265373,0.942556894591577,-0.7567607340362523,3.203262835468394,2.1990414926979174,1.203431180180768,0.15606272558404757,-1.3139052820296364,-1.0020652687160077,-1.4293391644672677,0.8409607817916183,-0.7145667601783986,-0.19897103532871716,1.2331060785543357,0.048388788927855406,-0.1861261641611207,-0.5231273943398402,-2.0128935543269577,-0.18586792784149586,-2.2881683997963105,3.2707285443618814,-2.090603782607771,-0.2876253327807254,-0.06420311849110606,-0.12326798243028794,2.658050058765018,1.4514876970045911,0.4797036845314046,4.5770659262840265,0.5190251666197754,0.027018266993566548,0.43692055424907306,3.0431839905759817,1.074434816627185,1.649651402432558,-1.5677904002496397,-0.8097493155139808,-0.2252391882358016,1.5358062404411936,-1.6804957631760038,2.049223964132428,-1.2584396655353833,1.7076999829699737,1.3896229530998787,-1.3840498465478384,1.7130168747918064,-0.9544566516970509,0.19454923023651172,3.7688737405431536,-0.7370031163531092,3.338860390192262,-0.44328443567387815,-1.7527439877607156,-0.6259116513299057,1.6046807757072676,0.12438260233365092,-0.8038712443882926,-1.49376831499134,-2.004458929257415,2.349419668448585,2.654011520461364,1.307708386990785,-1.3192913405441495,-2.7115504775653982,-0.2806844515551232,-1.6705337535318674,-1.3598531987402185,0.0548395390428843,-1.4925901763529914,0.4198539832463339,0.4119977877168309,0.43319799573943807,1.126983392030327,0.005324422890703165,4.35604780679924,-2.110411094312764,3.2044349742163654,-1.5197051952896667,1.5544787952649897,4.453154082209103,1.9297408930553768,-3.4955854325287365,0.9906874444551442,-0.5266015686286066,0.063117837836848,3.195241320608017,0.6364851514248913,0.314491738898537,-1.431845051504344,-0.6421261036758832,0.23152171780932265,1.3242207899703795,-0.3096845953878785,-1.1661045556456107,0.09114351087123061,-0.27264087320069175,2.710463079984476,-1.1888563150135383,-0.796181059859,2.175227350356151,3.920741638900301,3.836337139050654,-0.05520668057202302,-1.888954179075705,-2.8675100037375363,-0.9525195149975626,-0.294156945196574,0.5750259806342638,-0.2035130064241796,1.3346210264449399,-0.2477449273645606,-0.6685361566878898,0.004852318632065373,-1.9843924613390982,-1.0479042383653527,-2.6197606001142675,-1.4449478503349302,0.2924961603830226,-0.12042681287975417,-0.3246899305902385,-0.36220744968340535,-1.5949345760274005,3.139731768103784,0.03366442390611355,-0.8493229519561498,0.11028673241826938,0.4509839417543539,0.030721276591260043,-0.05260227350374829,-0.2697021480706293,-1.170530806779183,2.3300208885308344,-1.4579854124919125,1.7811636816046557,-0.9299124316255893,-3.2338950021777,2.793379512303001,-0.5348011009959656,-1.7859473977561333,3.311897136299594,-1.0591028709541987,-1.5188216749084564,-0.16495170020145458,-0.4756377785143351,2.162939445422069,0.44705628793341873,-2.461337456127981,0.7917910744542905,0.0022234423072657055,-4.169879530922447,2.1464918175445744,1.3522920534209466,-2.159702483066428,-0.3056783701467489,0.4955939917601295,2.3266596818500127,1.235394565560535,-2.570978208999066,-1.305624028076177,-1.6104148908128246,-1.5247531115737643,-1.4146761122084208,-1.7593848858601127,-1.2337094077717055,0.44734534452871405,-0.8654772442063617,-1.9788927451503568,-0.8816271117750377,-0.10289977687376531,1.490665538066504,-1.2069263083357311,0.656820449586465,-0.2688478981354068,-0.08386122507004541,-1.5086862216443542,-1.3335679871301163,-0.35765419035811924,0.42732697122635965,0.34019821215790996,-0.6303305248170589,-0.5699510297477256,1.3263877668644988,-0.49530600527058366,-1.229600961821088,-0.24168492685731277,-0.3010118681260335,-2.1492273866286786,-1.7186872812672165,0.1208309682055868,-0.38120370924030267,0.44852120374144056,-0.30544081502761716,0.6941163850287688,-1.174126844431618,0.04856397823696763,0.03892165328588684,0.08232056728769922,-2.584610534080012,-1.5247531115737643,-0.3320100873665974,2.5609596457363577,-0.20428746371200326,2.0390439544899754,-0.6419426742335437,-0.8181376378954327,-1.3641448000219811,-0.15592820024180015,1.5309440499016196,-0.01652162655021195,-2.78355746671116,3.2707285443618814,4.713216331802435,0.7158600054367682,2.0281963445767515,-1.4054359298619419,1.012567567382821,-1.5253445214644985,-1.8711878613193698,-4.627747126018135,-0.16549056503218357,0.172576278693741,-0.6366647445791757,3.013145565817889,2.836100683767489,-3.1555511363893007,-0.117903010511161,-0.39680355976385395,0.2014675384261774,-0.7244350791903815,-0.2154463839511264,0.16511400459503922,-0.117903010511161,-0.10433352874311508,-0.7628539843670438,2.537310088361841,-1.7053314750836377,0.6543964046538119,-0.9718746573210911,2.3300208885308344,3.2498342673068152,0.2780711249189681,2.773384633326746,-0.20878251101678044,-0.5065727818548166,-0.63332183534218,-0.7608034747050142,4.713216331802435,1.7480898533063582,2.159430641229488,0.8522843639445158,-0.31918257339202843,-0.7206716047001895,-1.2864250032354614,-0.5035988079620869,-1.3900997851318697,-1.568756774078629,1.8805656963026964,0.7164395714346096,0.041740192157413945,-2.1602630671309693,-2.3174603288777202,5.056769851446281,-1.8580883076685408,1.3373404713057169,2.4011276701471798,0.5634503887970103,2.8494877166951103,-0.23432746237308777,-0.5787070489759861,0.7439837316878407,-5.274718498970137,1.2907498430688065,1.9532312010062427,-3.531821941438093,0.6105553569268297,2.772555772916472,-0.5631856691872857,2.4339513856510115,0.3060563362529145,-0.9434411096974836,-1.3563493208686652,0.24332262361476,-0.7806373011004447,-0.7627178018062059,0.17782191445367093,-0.117903010511161,-1.3598531987402185,1.3500896234502267,0.16511400459503922,-2.5705366174809434,0.6811271382411248,0.2005531945434768,0.9364531766762598,2.7749051959020066,-0.3900996230299437,-0.2841513025912312,0.4571147873586255,-1.4683116774599498,3.902218150051647,2.295863976081772,3.2498342673068152,-0.13494866091012167,2.2860980277685483,-1.3428951663743942,-0.6746910284112466,3.0898421287704494,0.3201556646359481,-0.2407646275592786,-1.8020799718768852,-2.1824107409630598,-1.5537236013788682,-0.13595190815097233,-2.0822689240046977,0.01489157497621627,2.6317166892922192,-0.2592034700457168,-3.5814104723024034,-2.4303597317787746,1.8135204990838327,0.7290782322760305,-0.683826491310352,-3.312080173641811,-1.7512930345385844,1.4226850758455447,0.8421529700007867,-0.1942555924705194,3.018148290508298,1.0681295080202533,8.518667333195973,4.356940524968353,0.3457447473654403,1.8000957582425237,5.465180870711751,1.8983244734646358,-1.5247531115737643,1.0150081030614915,-1.8746706041010492,2.2860980277685483,0.9131023365113025,-1.8288832033022524,-1.5478859781618277,0.6067490684326231,-0.7809000988639015,-0.489130436713194,-0.2355786518646937,0.823309123306374,0.1411247996234858,-2.9935252645148966,-2.5948052635476335,-0.5934181695723328,1.158423178356723,-0.6011979435943199,-0.8635523711164164,-1.6554495078317237,-0.5578495010933398,-1.6327005727713817,-0.6685361566878898,-0.5266015686286066,1.1508033519946106,-0.955267166618322,-0.5207450668442224,-0.314968319028763,-1.0600125900996542,-0.8019722092763526,-0.1858679278414957,-1.1770047740100353,3.2369034942033132,3.3166627247515703,-0.9845241689779055,-0.6571145207558344,0.12489559841582339,-1.3910547976977847,0.058079802906038605,3.046541593044247,0.1576725808969207],\"xaxis\":\"x\",\"y\":[0.2003940335675405,-0.06223396638102243,-1.9071062916485069,-0.463227645802704,0.26415694321900796,0.21753285108412057,-1.5147860873924037,-0.23665743114832566,1.3353032192077618,2.184684077165824,-2.827264260541646,1.4832635617566896,-0.047901086615890154,0.14508952578255388,0.1311914030506946,0.7892322557333721,0.3120936125279474,0.3415175802881808,0.15572779033553624,0.3566193472377464,1.3999725080067957,-0.3103648460357107,-0.4090574020802593,-0.13873093477706738,-0.4262184587901107,-0.5976500792014886,-0.14577641812255265,1.4412484665115817,-0.47686431992483086,-1.9326123283363759,-0.22425880436533913,-1.8061016192212553,0.04477064874430773,-1.9025612795433609,-1.819565889743246,0.2132459612729251,-0.2383509064410075,-2.20818378440306,0.6328959142792787,-1.9108868287463376,0.3636844385236274,-0.6668099285203419,-0.615138371935116,0.02418242013923632,0.16505444260108354,-0.226859611453036,0.16236806145957927,-1.3340548392851086,0.4357615949562956,-1.350132356916455,-0.20138254280139503,0.3869843841270523,-1.2393989021203422,0.5421854713563176,-0.4864360982048739,0.8046014042879908,-1.048786201386387,-1.9405371163013732,0.5483269103722733,-0.7080476058168785,-0.856115060645836,-1.1424573066967192,2.9301707020578895,0.21565846910877903,-0.8969394057567351,-0.7869023239944957,-1.0794887430076194,-0.7045947331159679,-1.7157501515681066,-0.0787354832834216,-1.7224117284539229,0.4625037059673348,1.5919085476983876,1.4131069025237275,0.563265504079797,-0.7901812175382277,-0.7724309050931837,1.5521549353149504,-0.48161852150677265,0.6106563832898959,0.7810746720896976,0.6106563832898959,-0.22079986951663977,0.2393199520057399,1.0824145438555484,-0.31765169960277456,0.9222036357926454,-1.8239631909634437,-0.26200457443103675,0.06806651826084488,0.22410429936241835,1.5081998280935196,2.3025529368212534,-1.494156621793896,-0.01054509916657424,0.2360065604980831,-0.6329150218032695,1.814332027790968,0.5313050521384487,-1.374459870808222,-1.5473185533885259,-0.935039672718676,-1.464112907046558,-1.3766741159960512,1.3443643002762804,-0.5705951276349508,-1.3149668114387243,-0.5466526455732119,1.152324556918089,1.3739854299204477,0.969197035038737,-1.7157501515681066,1.8248938239893087,-0.009281700359043642,-0.9553083262665079,-0.18359312011739823,-0.4333422227072575,-1.5654848679439806,-1.0061670498970088,-0.4494477453462083,1.1651806128114808,0.5199877998580441,-1.7526653245769106,0.36025139913451465,-0.5274255427779173,0.05742111706967395,0.3415175802881808,-2.7891483366352086,2.684340668404279,-0.433674924481358,0.7241763325992088,1.288822897920866,-0.4370458847580649,-1.1639221561301896,-0.7804192333226061,1.4129123783047441,-1.3019682488118136,-0.07032493618575371,-1.3730859468494057,-1.0114064264281661,0.4561922657298409,-2.4530977391920756,-0.3275577022312296,0.872858609392604,1.5409046003544644,0.5636180940003052,-1.452298596884652,-0.5187632114295703,-0.8433184975178863,1.948846924399524,0.5744154709604221,-0.5842583519234432,0.05832275043804803,0.2544614346500206,0.4541678892176793,-0.4148591177411394,1.69760200108049,0.9686469556534775,-0.7869023239944957,-0.07032493618575371,1.4681746373126463,-0.6148239466083264,0.8003872398480156,-1.7194776697316565,1.0824145438555484,-1.452885648016914,-0.7567819719875565,0.3711554721867995,-0.4333422227072575,1.3764209745648892,1.5131298698080948,-1.19502672462901,0.6260324991666252,-0.3052634825614872,-0.7555850859197532,-0.6952456984777549,0.5557393098595083,1.7271016456751613,-0.4095268300886722,-0.10436841579151408,-0.7131781539062627,0.3056321627586025,1.85023857939052,-0.20602905766547933,2.4413225406882324,-1.152068682476374,1.387577184694796,-0.3482302738211022,0.6970812222165217,-0.15571192777739593,-1.610115372362527,-0.7256668140738151,2.5563234901303256,0.6440847326168321,-2.525858216477795,-0.3516689408266726,-1.0123507732990418,2.3750464437907635,0.8638854592830947,1.2479090860387547,-0.20015785134361713,3.733600917029779,-1.3085714997247813,0.7302852691714844,1.9124826274015678,2.7147893891231356,-0.8427374028463479,-0.3531778796829778,-1.086308656977991,-0.9180420177664919,-0.8901312668936524,2.96747200268592,0.7206336203032633,-2.043676462352921,-0.6849298690754796,-1.1155486816489342,-0.9391835312598652,-2.2832221724415462,-0.04491111047381009,-0.3565701919402536,-1.3604203272885242,0.18164132376260697,1.0436964251069285,-0.6438677531433521,-0.8427406592315149,-0.1018219264212834,-1.9614774754505717,-1.0220429021911168,-1.2312044125603712,0.6483045293806702,-2.5439033577545027,0.4876944132928993,-0.7896914637894963,-0.4017393954627929,0.9512986916511559,-0.544326912691687,-1.0987913610389421,-2.0880308991557652,0.07470451835591775,0.41103507516471194,-0.8874131341746594,0.6897061321998446,-0.5775588208164701,1.861346721682451,-0.6300857523588065,-1.4312739277055357,-0.20462134212225508,-1.5147860873924037,0.26133267728774057,0.8972168229961911,-1.1546971947519122,1.2409970192998987,2.5741333080375224,-1.5819830576484784,0.3120936125279474,-1.7704925674449135,0.9713450520409795,-1.1164805090278216,1.0714380380517,-0.38144810443971205,-1.614195354948076,-1.0713013888064584,0.44301280749293753,-0.5791044261651901,-1.197572953461945,0.11096079069890648,0.3425555577323181,0.792575618526283,-1.3216081540762317,-1.8506102680669017,0.11690248798595591,1.047362831836645,-0.9756313485030116,-0.4251521179054389,-1.502070222229092,0.4876944132928993,-1.8902846050089883,-1.3766741159960512,1.3995176963130151,-1.4812313678268068,-1.2882460754156289,-0.9994386349778616,-2.5977850997269267,-1.211252173030141,-2.1571567669787903,1.449151423730174,-0.29833951452554164,-1.2322642650452547,3.463889941870021,-0.5163620644463075,-0.8483389588896773,0.8911993837721355,-0.9122973946265491,1.5409046003544644,0.3532418657752293,-1.7422900012252205,-0.20278547794480772,4.710150350510037,-0.2325729102013442,0.5146155515525934,-1.2780373336001145,0.417150970409069,0.525151630873884,-0.4029801451913498,-0.829375711850212,-0.5572425118266598,0.5330564278519432,0.40655569447916007,0.17597731920953325,0.8026965164654173,-0.14850916115209162,0.8344903402797262,-1.6548030865932122,0.3671398417636032,0.07410669897364656,-2.2144661773466656,0.6310303091504819,0.8120092245137039,-0.8208079586836461,-0.8405591605972286,-0.28617979936890753,1.1928229240526924,-1.2759838882012526,-0.6527902355648486,-0.4044628986866795,1.0866387380948574,1.859771042070848,-1.6457228930587138,1.6516858691491056,-0.860567342476321,0.3519855243965855,-0.48850785598920937,0.6785540996634177,-1.133685822224184,-0.8657056638353207,-1.0093303057047622,-0.10536132588900153,2.3343848073735494,0.10431372781846196,1.1189370460517183,-0.5536899070928013,-0.7615385257397196,-1.9422502163866007,-0.20369675605110996,-2.3724223519424985,0.6250567587940935,3.778271043083208,-0.7253230252175376,1.212365599186526,-1.3137541069039784,2.0518790389491,-0.8022471152035702,0.8030722576885105,1.118258169270191,0.23938420324353663,0.02819984509949225,0.6089948237409734,-1.407697434732665,0.7440552513565479,-1.0587889416228977,-1.4203929181976755,-2.1104943486537513,-1.9009651266452932,0.5735489022522758,0.8258373227883,1.5508350324187634,-0.4155909449320469,-0.4576732505256442,-1.1973534632731284,-1.809363048536301,0.8983667716428488,0.8049510203108832,-0.8367900381455633,-0.20278547794480772,-2.0922121606864197,-1.3947342040068962,-0.5763755833339782,2.1064531725225586,0.3298690107732298,0.6917625107235668,-1.672908715263391,-0.9394386574342881,-1.090100889002425,1.486386201661416,6.818062042807385,0.19017280095814573,0.3238987136491397,1.1616567399591633,-0.15152075712902283,0.6064199628656813,-0.7161747328810966,0.64118546742365,-1.3534101316089517,-0.5093028107237219,0.426567995819335,1.3468574229573296,-2.6417367675768872,0.6085007758346636,-0.060983148992791246,0.16950546756691684,1.393545080463717,1.6858424187055348,1.0504264061641797,-1.1681993924125795,-0.7066827896941875,-1.5547530047829026,0.05742111706967395,-1.6142835724826512,0.11636021603502822,1.796651150592182,1.1505474872454606,-1.8839357589012413,0.293263124975087,0.7633061938320451,-2.16141277903803,0.6629782296216667,-1.886739915440841,0.4378553166226766,-0.13203632869151272,-0.4155909449320469,0.9536901148448195,-1.5875660091130521,-0.4251521179054389,0.45163213891829956,-0.08295933375572553,-1.4025422725702328,0.34766855958156073,-1.1554783494761671,0.13018442487662935,0.3199347937144773,0.5870206398288845,0.4249768750144125,-0.6088499278274838,-0.6753292329113102,-0.47436693896252874,-2.9394532202977066,1.4128929765791107,1.479780481118666,-2.4789085583632984,0.5088601915421915,1.7019643438825702,-1.8781247946443018,-0.3921343445960378,-0.9965614500909317,1.8024634556976786,-1.1599236985233565,2.4618734849916546,0.3391400818752966,2.1445863939376766,5.769598680612163,-2.4642222060250822,-0.7330695514767508,0.8731782034601916,-0.37816746446555566,1.851088501210818,1.1012957021844136,-0.2800303430818281,-0.9483526369577846,0.07072465959786448,2.3795278619095166,1.0082772591993499,0.3094568649482436,0.05661729345178812,-1.3140351110615063,-0.43701663368351923,2.5243873143318103,-1.2504049811259577,0.580978890791878,-1.1036419326618245,-0.23905093303049477,0.1889070999035575,-0.04072753663405174,1.3788372620239173,-1.3016689268069421,0.4874627000136744,0.6946040576707527,0.3711554721867995,-0.5187632114295703,0.7931565196665148,-0.9137417192870082,2.730878237763906,-0.32938253500359704,-1.903250035192848,-1.335725228668671,2.3795278619095166,-1.60115271389922,0.271168490583264,-2.1840817659920155,0.6784026947398518,-0.5763755833339782,-1.0467975357950914,0.40816026511145703,-0.5313587685126107,-0.246221327749161,0.710179740661001,2.211892875752066,-1.4812313678268068,-0.08418321715694489,2.126205836753481,1.9859729371181787,-2.2913391621618566,-0.9576706488087369,2.658482716801024,-0.10674961307604512,0.44301280749293753,-0.9575818450207796,0.2501447149670611,-1.502070222229092,-0.566976119708881,-2.8542247018899047,1.6810272385872158,-1.1673030237922914,-0.2511073210495734,-1.6912928252105874,-0.667773728557728,0.6501908899563102,-1.101058287127685,0.9092683923187497,-1.322678909661053,-2.683744452542027,0.8911993837721355,0.3651455345228414,0.7810746720896976,1.4495847577946444,-1.161272161351858,2.4413225406882324,-1.8834941954791937,-0.12849649711266953,-0.5650315987231416,-0.4017393954627929,-0.19176808402507922,1.8491571551972517,0.5581169572130997,-0.46427565748081945,-0.3800718936606341,-1.6992461507844883,-0.28146188764918245,-0.8285070067767916,-1.407824510201637,-1.210716881114873,-1.6846926318165691,-0.9704093216856355,-0.644945882309825,0.33263151145064446,-0.11339625516725732,0.3425555577323181,0.0074766055106025315,0.09044597843027938,2.1658888896087114,-0.7256668140738151,-0.5671279433868646,-0.9994386349778616,-1.0511041518833892,0.06969718439526908,0.2243732008807718,-0.002057022358783041,-0.6148239466083264,-1.1424573066967192,-1.6656770694318133,-0.4830028119137468,-1.6300119102754398,0.5870206398288845,4.283757076523907,-0.9246910043980068,-1.1917891380679333,2.114644238245727,-0.3235206548224671,1.9354695667062942,0.14058164361451503,-1.7407613229409502,0.9821666486861275,0.45736440275673845,-0.07598944080783997,-1.7563192156620075,-1.1954779439592453,-0.544326912691687,0.5870206398288845,2.1280458339886876,3.301107617619613,0.014868581294478328,0.5754989090173913,0.16308944319323135,-1.152068682476374,1.9540885927126144,-1.76671444010682,-0.6409352449877129,-1.0943816549304088,-0.4090574020802593,-0.8230393237629691,0.5627644595345798,-0.6305550151932473,-1.464112907046558,0.8583048461787739,-0.4992689616638062,1.391285092345669,0.5290003178948774,2.2903845768970963,-0.0646625960952973,0.24131159151605794,0.02167487865171649,0.6999129490068328,1.3607405227713898,2.4248016247581763,0.008903846903374308,-0.013526104732185872,-0.8485954013463985,0.8926966576429372,-0.22248739484727487,0.5330564278519432,0.4246135750995941,-2.1233276620958805,-1.0415998850372847,-0.20390105648959708,-1.0123507732990418,0.4169347463487899,0.19017280095814573,1.8517588509317036,-0.6206982258128059,-0.09756108780831207,-2.5861984632542985,-1.7467092030842595,-1.2124870675141624,-0.41684573971876876,4.467760618775012,-2.689344891023621,-1.9343439036439587,-2.6110289222426526,0.16950546756691684,-1.9535435654369815,1.9951129567325674,-0.7170484024225404,-0.05658840276012579,-0.7330695514767508,-1.2644538925521798,2.1699072598329345,0.45927235671331595,-0.32410489968346917,-0.8775643210910452,-0.9670476648233666,-1.1827788071620136,-0.5783751243647801,0.22097114955062105,-0.6388249533112521,-0.9708723780546799,0.580978890791878,-2.469549353626325,-0.7956046974032163,0.08375027093800365,0.3385502560263506,0.7598638000743464,0.39008478418945525,2.2054473204205522,-1.336782612005403,-0.9756313485030116,0.3926960630332969,0.6141265663361322,0.710179740661001,1.3995176963130151,0.4598751944334724,2.9138677991868014,-0.49716426428637445,-0.015077862346453783,2.997877973199812,-1.0216993692313552,1.4655979762415878,-0.8230393237629691,-0.9081193386110519,-0.10851623347568366,-1.3110168858818463,-0.44569386808302286,0.7779816810841288,0.7293520383130936,1.0175976768224648,-0.35751524054497374,0.9180709883946878,-2.0889020668064235,-0.3235206548224671,1.4422130252240157,-0.15638069863456155,-0.667773728557728,-0.196587541741665,1.1954966830227653,-0.37816746446555566,-0.27399969914741645,-0.4029801451913498,0.9892134299085688,-1.0519944434915778,1.0594669300499868,4.309437056419863,2.1699072598329345,0.8627130284393685,1.2146727205649697,-1.3054641349984188,1.3341603937410969,1.8844543452304827,0.038065186893072624,2.2664328465824055,3.39375550166244,1.637026925165539,1.1931350091889905,-0.23597539024150682,-1.1068744595693703,-0.7567819719875565,-1.0916865035794692,1.0089954015565914,2.373588380859961,-0.003066902668133934,-0.9357053015710217,-0.37017185673905373,2.4006400161753554,0.7494396573674137,3.2463653400349486,2.901896473554336,0.33981840041018113,-0.3883570462877009,0.8363827449589669,0.07246666038002082,-0.049843027604750664,0.3480576058923994,2.369172270781538,0.4524304502657059,0.8049510203108832,-2.0270916675943056,0.3877780975867425,-0.9391835312598652,-0.5763755833339782,0.36025139913451465,2.4600224910281203,-0.23624167180920588,0.5674882525635161,-1.4312217494224426,-1.6707018349824319,-0.5317206076530157,0.9485690862956907,-1.7038406964325425,0.49239113238928106,1.2201223040149438,0.23331390190684742,-1.7613211970051945,-1.3110168858818463,-1.049231605421732,-2.3724223519424985,-0.7470894308893026,1.7945347234725744,6.242416752239269,0.355855185811654,1.4624786792107805,-0.5858835948701242,0.9506504686020205,0.8821258751714545,-1.0040801626589984,-0.719016180374788,-0.2804368433970683,-1.9343439036439587,-0.6574534340295498,-0.05518445085057268,-2.2148650005838895,-0.742844561425336,0.4501191754393494,1.0994496577765775,0.0068996700241284,-0.04606486017633876,-0.32938253500359704,0.02167487865171649,0.538971513016579,1.941648129803772,0.7633061938320451,-0.8976813288544333,-1.1289194985588278,1.9698912275541005,0.9682191566114199,0.547404752664798,2.1658888896087114,2.1057781425980173,-1.2760407648157115,0.09286478226654717,0.05832275043804803,0.6954115326495347,-0.033998141954430315,-1.7873859151325946,-0.5763755833339782,4.3103410442049475,-0.06260585590000374,2.5381840916360843,-0.2531583837654647,2.285063742051251,0.007677935043544308,0.9537946168191502,-0.9592477678437001,-1.7662808350523378,-0.15998524259067673,-1.101058287127685,-1.28352396643237,-0.5345969349291171,0.20039403356753363,-0.5220986626110403,-0.23827352788307274,-0.9031635599660764,1.272528696884669,-1.9225588954246033,-1.1579667386899644,1.0474011805755916,-0.06980228507430504,-2.3938133687056844,0.17847814649661597,1.9354561270823532,-0.06431931804735457,-1.4262112106753402,1.560825643855197,0.2466114991716584,0.5905987390808894,1.7306308434347084,-0.0632823944806243,0.04957177945854758,0.4304419308201027,-0.246221327749161,-0.5430297470930685,0.8030722576885105,-0.33445803400963653,-0.22079986951663977,0.6023592884957732,-0.4090574020802593,-2.4557265982605108,0.31009045421359777,0.5774834826512447,2.1051152681975442,1.1931350091889905,-2.349354850500413,-1.7180373520258176,1.7260975914115366,0.39942510926333585,1.741948860202487,2.8774804750538654,-0.03063854084605749,-0.6857288027815327,-1.3550454862384862,0.15600944489591814,0.8540132020023973,1.8726765136287087,0.709348531592337,-1.364833764431717,3.301107617619613,1.4681558709076865,0.6209648347231668,-1.4202097595796983,-1.4917355348279728,-0.32256837405952293,0.39913563032121563,-1.2183480619162124,0.20102371824731402,1.7827623381167128,-0.14979029407664787,-1.6079800349627202,-0.3290687223618006,0.4801977028026983,0.20102371824731402,-0.5838847904972959,0.42824343724485026,1.3693786041915053,-1.7522296542433071,0.584009371735606,-1.4167558772537125,-2.4148550764688763,-0.8512463582563836,1.7435194452510174,-0.990294432067767,0.17514980562062188,-0.20369675605110996,-0.5324602979353881,0.608813290027612,-0.10674961307604512,0.6053624132776014,-0.5775588208164701,1.2693492627007084,-0.7360664392493598,-0.3275577022312296,1.3802456253512112,-0.22534972462149488,-1.4200865927427273,1.3567932823488311,1.0014476514969652,-0.8799478171440762,2.1215336647690215,0.027435967191156593,0.4395939349723548,-0.8337987990371073,-0.46387702341618037,1.4131069025237275,0.538971513016579,-2.699157527168841,-1.0765203265198364,-1.9081407731121702,1.006998818983323,-0.9293610540279051,5.606363539545567,-1.381321533424375,1.4461814289840536,-1.2719263005661876,-0.5008463127884843,-0.3314203552000897,0.2817292063616114,1.1709868801346637,-0.9688635615291893,0.6921467030724029,-0.3191397388884144,-3.127949030710349,6.242416752239269,-0.9900241232581193,-1.8951389926232358,0.06365854318770992,-2.021143073306944,0.06806651826084488,0.45927235671331595,-0.3538256061668704,-1.1859659033239331,1.2409970192998987,-1.0289678055545008,-1.8561461829084958,3.9001087603810056,-2.5549961381177773,-0.28292422123232347,-2.1548401012925162,2.1636723155629887,0.7105402754415892,-0.6777363823785983,-0.9792755165461138,0.5223659125242418,2.412264626386344,-0.7259032493475615,-1.576547971738432,-0.047901086615890154,-2.3566840273171112,5.769598680612163,0.9090391409739196,0.9096429289739406,-1.7894012750536712,-0.5475729288040391,-1.9691217078549461,0.13333279539968632,-0.8312417431261622,1.4238589498384602,-0.43701663368351923,2.1967642526201123,2.7390427265365114,-1.9060296583360747,-0.6942359387930095,-1.6680033670071646,0.10227784006873643,-0.7702859702199853,3.553973110704002,0.45836464693281453,-1.9225588954246033,-0.6833409187642054,2.470070503677629,-0.6105166331638655,1.0368899363757111,0.15259952495709853,0.14065329211718614,0.8296481703833515,-2.699157527168841,1.033953254585241,1.3409250784600604,-2.4792400942959896,-1.6163773639965666,2.2398427728946153,1.0051737903393454,0.016364846960303464,-0.42421079690137065,0.8049510203108832,-0.4262184587901107,-1.0247008264017525,-2.137917332307009,-0.2154743763530525,-0.69693081151836,-1.2544825691372092,-0.20390105648959708,-1.358742586085803,3.8100598708257896,1.35213586451273,0.7768750032544189,-0.9243401131619823,-0.5572425118266598,-1.0652467467251288,2.2299767905702743,-1.903250035192848,-1.6300119102754398,-1.6029175674079539,-0.5596868007599836,-1.117999098399622,-1.0061670498970088,-2.0226100443029624,-0.6816989396728369,1.3999725080067957,2.7366986584230713,2.120429116493991,1.634937044260555,2.285063742051251,0.15867045457633439,0.7898129626792679,-0.11425371696983523,-0.6680918797701233,-0.40938816846177284,-0.7418364178113148,-1.9108868287463376,-0.8940329157094336,-0.838595886239249,0.6405890079954942,-1.3473392943882756,1.3665098937801468,0.33279308884322273,-2.422143716449135,2.2891308183665378,0.5075528433151191,1.0109762213832032,0.10361105368382972,-0.6126972342948371,-0.8480764963413032,-0.1218814074148069,-0.32410489968346917,-0.5193594771482754,-0.9104977286647841,1.7846312664951907,0.29184081255199984,1.5081998280935196,1.0014476514969652,1.3829180160477679,-1.3176738471871852,0.33981840041018113,-1.0028266958789278,1.5662999866616283,0.5873931574728266,0.28832047469206984,4.465450523129402,-1.93769861221376,-0.39465337889894025,-2.4928870896464996,1.3924144136032173,-1.8520473365196932,1.5743539539885605,-0.10149554520027897,-0.17424079942043733,-1.5983057516041288,-1.2711646487234571,0.6067386614278827,0.39008478418945525,0.09585109601059813,0.3456075720712123,-3.0383493438195774,-1.552480322541142,-2.3724223519424985,-0.5308471023009506,-1.3653344581987121,-1.6415596892008826,-1.8702336328380709,-1.9162565702986474,0.7092729639620641,-1.696190767669589,-0.26622514242990425,-1.9947711805214596,-1.6960808101687068,-1.5678277807226717,1.3026062553623803,-0.35626273550580045,-0.6716433238679343,-0.07967458130875849,-1.321909163409361,1.6838993833204385,0.6085007758346636,-1.8731587397934188,-1.2508369531080443,-0.8798199316960968,0.37856299808704724,-0.2701193070739543,-0.23827352788307274,0.39913563032121563,-0.8321933281612504,2.6883103394279964,1.1031140102664057,1.25658578051293,-0.7622202553792192,1.9147806826426659,3.193629950943522,0.6551291418311157,0.6427676773872898,0.6376400481043704,1.4316929402500993,0.873860078779263,1.2842494461602154,1.2323779804549735,0.008903846903374308,0.806942738362606,-0.3452654753644428,-1.1834484712158737,-0.6574534340295498,0.21784879715579422,-0.10044033272540788,-2.105946830876197,-0.6319894905551009,-2.4091458401363552,-0.475463097023736,1.292366012379034,1.4225920179459601,-0.07967458130875849,0.8408788105399821,3.5717507115557323,-0.5952011954104469,-2.525858216477795,1.3481288876338076,-0.10851623347568366,-0.5811302132229269,0.1099801741571127,1.8558982057572528,0.038065186893072624,-0.08136361366806383,-0.6777363823785983,6.915928569171193,0.7055851472258748,0.858884825402997,0.4249768750144125,1.4318556999217813,-0.3648922724650167,0.1889070999035575,2.309103322325541,-2.577120643195421,3.2454434095556017,1.301871387503276,0.09441970727108363,0.8102532707053698,-1.8323766796005676,-0.49716426428637445,-0.6936740647152068,-0.32102659399952604,1.1651806128114808,-3.0715967622699205,-0.21439394137375647,-0.49716426428637445,1.464628924658702,-1.6724648917984701,-0.48040814009408805,1.859771042070848,1.678928450363398,0.3268903777268958,-2.4928870896464996,1.5250619012070696,-0.5602082956322086,-2.071697572311474,-0.9240264144945741,1.1251422972875318,-0.7405350044863585,2.1443296291738845,6.915928569171193,2.7728437538368538,-1.7854877016976165,-2.3110723710231347,1.0364066829252463,0.9426890485735733,0.4663506666303736,0.1576953816072193,0.24679652684823813,-0.22741672964930554,-2.4148550764688763,2.5946600633343486,0.34061907631621224,1.1543103407796764,-0.7919137066816454,-0.3565701919402536,1.9952192196368042,-0.8230393237629691,2.687476628576763,1.9537770449770504,0.8047674436320705,-1.8616363489145942,0.4431662275684258,-0.46473230622713707,-0.8796677875581149,-1.0815077555633792,-1.0216993692313552,-1.8212431958430968,-0.4742172726216943,1.3385765588863119,1.006998818983323,-1.4052202255283972,0.6319176204316821,-2.5439033577545027,1.2293222392925585,2.568319003458888,-2.0376490510332332,1.0558236454175527,-0.6680064891720048,-0.49716426428637445,-1.0247008264017525,-2.026612092128036,-0.21439394137375647,-0.01054509916657424,3.778271043083208,-0.856115060645836,-0.5072058433921034,2.4600224910281203,-0.09115706434953921,-0.2984271708538059,1.3569233666572056,0.9358987486577981,-1.022557648616004,-0.4576732505256442,1.5250619012070696,-2.598165361963916,-1.89981048070742,1.5617604717774525,-0.9058779633198395,-1.024324332833936,4.185056382645623,-0.8306341380452218,0.8321690295414395,0.9225532943703944,-0.7025047778099365,0.8627130284393685,-1.450798898213907,0.848393978603618,-1.1635673873123995,0.22762342660313892,0.05531727322259247,-0.2969612173135038,-1.090100889002425,-1.6218212645430645,-1.3261637404043085,-0.6351172191230213,0.5372635121490474,0.6012148004102298,-1.095927103823018,-2.0967824910802015,0.26855702676343096,-0.6738676846470714,2.761377709609228,-1.086308656977991,1.3013574813454676,0.1596073981113298,-1.1985047177878494,-0.0871698093098933,-0.07967458130875849,2.0518790389491,0.4820993584551678,-1.89981048070742,-2.3855083832338595,0.41068587146720936,-0.13227501922080662,-0.9659647299073861,2.324759681226014,-2.258474781250036,0.15600944489591814,-0.8799478171440762,-0.7670615989293046,-0.690102514360906,0.5822536320086794,1.560825643855197,-0.32751790733303143,-0.22673863341220385,1.319712112833232,0.05832275043804803,-0.8140196241348394,-0.08447184685656971,-0.6126972342948371,-0.5596868007599836,0.008383701551734225,0.4841795452814508,1.8379735500924423,0.4936235787773471,-1.0943816549304088,-0.27786246661213554,2.1636723155629887,0.2641569432190073,-0.35123843180180686,-1.1546971947519122,-0.24544504160709646,1.5919085476983876,-0.32533301925173275,1.1685270446776366,0.4663440671130695,-0.875775821560186,3.653600001186771],\"yaxis\":\"y\",\"type\":\"scattergl\"}],                        {\"template\":{\"data\":{\"histogram2dcontour\":[{\"type\":\"histogram2dcontour\",\"colorbar\":{\"outlinewidth\":0,\"ticks\":\"\"},\"colorscale\":[[0.0,\"#0d0887\"],[0.1111111111111111,\"#46039f\"],[0.2222222222222222,\"#7201a8\"],[0.3333333333333333,\"#9c179e\"],[0.4444444444444444,\"#bd3786\"],[0.5555555555555556,\"#d8576b\"],[0.6666666666666666,\"#ed7953\"],[0.7777777777777778,\"#fb9f3a\"],[0.8888888888888888,\"#fdca26\"],[1.0,\"#f0f921\"]]}],\"choropleth\":[{\"type\":\"choropleth\",\"colorbar\":{\"outlinewidth\":0,\"ticks\":\"\"}}],\"histogram2d\":[{\"type\":\"histogram2d\",\"colorbar\":{\"outlinewidth\":0,\"ticks\":\"\"},\"colorscale\":[[0.0,\"#0d0887\"],[0.1111111111111111,\"#46039f\"],[0.2222222222222222,\"#7201a8\"],[0.3333333333333333,\"#9c179e\"],[0.4444444444444444,\"#bd3786\"],[0.5555555555555556,\"#d8576b\"],[0.6666666666666666,\"#ed7953\"],[0.7777777777777778,\"#fb9f3a\"],[0.8888888888888888,\"#fdca26\"],[1.0,\"#f0f921\"]]}],\"heatmap\":[{\"type\":\"heatmap\",\"colorbar\":{\"outlinewidth\":0,\"ticks\":\"\"},\"colorscale\":[[0.0,\"#0d0887\"],[0.1111111111111111,\"#46039f\"],[0.2222222222222222,\"#7201a8\"],[0.3333333333333333,\"#9c179e\"],[0.4444444444444444,\"#bd3786\"],[0.5555555555555556,\"#d8576b\"],[0.6666666666666666,\"#ed7953\"],[0.7777777777777778,\"#fb9f3a\"],[0.8888888888888888,\"#fdca26\"],[1.0,\"#f0f921\"]]}],\"heatmapgl\":[{\"type\":\"heatmapgl\",\"colorbar\":{\"outlinewidth\":0,\"ticks\":\"\"},\"colorscale\":[[0.0,\"#0d0887\"],[0.1111111111111111,\"#46039f\"],[0.2222222222222222,\"#7201a8\"],[0.3333333333333333,\"#9c179e\"],[0.4444444444444444,\"#bd3786\"],[0.5555555555555556,\"#d8576b\"],[0.6666666666666666,\"#ed7953\"],[0.7777777777777778,\"#fb9f3a\"],[0.8888888888888888,\"#fdca26\"],[1.0,\"#f0f921\"]]}],\"contourcarpet\":[{\"type\":\"contourcarpet\",\"colorbar\":{\"outlinewidth\":0,\"ticks\":\"\"}}],\"contour\":[{\"type\":\"contour\",\"colorbar\":{\"outlinewidth\":0,\"ticks\":\"\"},\"colorscale\":[[0.0,\"#0d0887\"],[0.1111111111111111,\"#46039f\"],[0.2222222222222222,\"#7201a8\"],[0.3333333333333333,\"#9c179e\"],[0.4444444444444444,\"#bd3786\"],[0.5555555555555556,\"#d8576b\"],[0.6666666666666666,\"#ed7953\"],[0.7777777777777778,\"#fb9f3a\"],[0.8888888888888888,\"#fdca26\"],[1.0,\"#f0f921\"]]}],\"surface\":[{\"type\":\"surface\",\"colorbar\":{\"outlinewidth\":0,\"ticks\":\"\"},\"colorscale\":[[0.0,\"#0d0887\"],[0.1111111111111111,\"#46039f\"],[0.2222222222222222,\"#7201a8\"],[0.3333333333333333,\"#9c179e\"],[0.4444444444444444,\"#bd3786\"],[0.5555555555555556,\"#d8576b\"],[0.6666666666666666,\"#ed7953\"],[0.7777777777777778,\"#fb9f3a\"],[0.8888888888888888,\"#fdca26\"],[1.0,\"#f0f921\"]]}],\"mesh3d\":[{\"type\":\"mesh3d\",\"colorbar\":{\"outlinewidth\":0,\"ticks\":\"\"}}],\"scatter\":[{\"fillpattern\":{\"fillmode\":\"overlay\",\"size\":10,\"solidity\":0.2},\"type\":\"scatter\"}],\"parcoords\":[{\"type\":\"parcoords\",\"line\":{\"colorbar\":{\"outlinewidth\":0,\"ticks\":\"\"}}}],\"scatterpolargl\":[{\"type\":\"scatterpolargl\",\"marker\":{\"colorbar\":{\"outlinewidth\":0,\"ticks\":\"\"}}}],\"bar\":[{\"error_x\":{\"color\":\"#2a3f5f\"},\"error_y\":{\"color\":\"#2a3f5f\"},\"marker\":{\"line\":{\"color\":\"#E5ECF6\",\"width\":0.5},\"pattern\":{\"fillmode\":\"overlay\",\"size\":10,\"solidity\":0.2}},\"type\":\"bar\"}],\"scattergeo\":[{\"type\":\"scattergeo\",\"marker\":{\"colorbar\":{\"outlinewidth\":0,\"ticks\":\"\"}}}],\"scatterpolar\":[{\"type\":\"scatterpolar\",\"marker\":{\"colorbar\":{\"outlinewidth\":0,\"ticks\":\"\"}}}],\"histogram\":[{\"marker\":{\"pattern\":{\"fillmode\":\"overlay\",\"size\":10,\"solidity\":0.2}},\"type\":\"histogram\"}],\"scattergl\":[{\"type\":\"scattergl\",\"marker\":{\"colorbar\":{\"outlinewidth\":0,\"ticks\":\"\"}}}],\"scatter3d\":[{\"type\":\"scatter3d\",\"line\":{\"colorbar\":{\"outlinewidth\":0,\"ticks\":\"\"}},\"marker\":{\"colorbar\":{\"outlinewidth\":0,\"ticks\":\"\"}}}],\"scattermapbox\":[{\"type\":\"scattermapbox\",\"marker\":{\"colorbar\":{\"outlinewidth\":0,\"ticks\":\"\"}}}],\"scatterternary\":[{\"type\":\"scatterternary\",\"marker\":{\"colorbar\":{\"outlinewidth\":0,\"ticks\":\"\"}}}],\"scattercarpet\":[{\"type\":\"scattercarpet\",\"marker\":{\"colorbar\":{\"outlinewidth\":0,\"ticks\":\"\"}}}],\"carpet\":[{\"aaxis\":{\"endlinecolor\":\"#2a3f5f\",\"gridcolor\":\"white\",\"linecolor\":\"white\",\"minorgridcolor\":\"white\",\"startlinecolor\":\"#2a3f5f\"},\"baxis\":{\"endlinecolor\":\"#2a3f5f\",\"gridcolor\":\"white\",\"linecolor\":\"white\",\"minorgridcolor\":\"white\",\"startlinecolor\":\"#2a3f5f\"},\"type\":\"carpet\"}],\"table\":[{\"cells\":{\"fill\":{\"color\":\"#EBF0F8\"},\"line\":{\"color\":\"white\"}},\"header\":{\"fill\":{\"color\":\"#C8D4E3\"},\"line\":{\"color\":\"white\"}},\"type\":\"table\"}],\"barpolar\":[{\"marker\":{\"line\":{\"color\":\"#E5ECF6\",\"width\":0.5},\"pattern\":{\"fillmode\":\"overlay\",\"size\":10,\"solidity\":0.2}},\"type\":\"barpolar\"}],\"pie\":[{\"automargin\":true,\"type\":\"pie\"}]},\"layout\":{\"autotypenumbers\":\"strict\",\"colorway\":[\"#636efa\",\"#EF553B\",\"#00cc96\",\"#ab63fa\",\"#FFA15A\",\"#19d3f3\",\"#FF6692\",\"#B6E880\",\"#FF97FF\",\"#FECB52\"],\"font\":{\"color\":\"#2a3f5f\"},\"hovermode\":\"closest\",\"hoverlabel\":{\"align\":\"left\"},\"paper_bgcolor\":\"white\",\"plot_bgcolor\":\"#E5ECF6\",\"polar\":{\"bgcolor\":\"#E5ECF6\",\"angularaxis\":{\"gridcolor\":\"white\",\"linecolor\":\"white\",\"ticks\":\"\"},\"radialaxis\":{\"gridcolor\":\"white\",\"linecolor\":\"white\",\"ticks\":\"\"}},\"ternary\":{\"bgcolor\":\"#E5ECF6\",\"aaxis\":{\"gridcolor\":\"white\",\"linecolor\":\"white\",\"ticks\":\"\"},\"baxis\":{\"gridcolor\":\"white\",\"linecolor\":\"white\",\"ticks\":\"\"},\"caxis\":{\"gridcolor\":\"white\",\"linecolor\":\"white\",\"ticks\":\"\"}},\"coloraxis\":{\"colorbar\":{\"outlinewidth\":0,\"ticks\":\"\"}},\"colorscale\":{\"sequential\":[[0.0,\"#0d0887\"],[0.1111111111111111,\"#46039f\"],[0.2222222222222222,\"#7201a8\"],[0.3333333333333333,\"#9c179e\"],[0.4444444444444444,\"#bd3786\"],[0.5555555555555556,\"#d8576b\"],[0.6666666666666666,\"#ed7953\"],[0.7777777777777778,\"#fb9f3a\"],[0.8888888888888888,\"#fdca26\"],[1.0,\"#f0f921\"]],\"sequentialminus\":[[0.0,\"#0d0887\"],[0.1111111111111111,\"#46039f\"],[0.2222222222222222,\"#7201a8\"],[0.3333333333333333,\"#9c179e\"],[0.4444444444444444,\"#bd3786\"],[0.5555555555555556,\"#d8576b\"],[0.6666666666666666,\"#ed7953\"],[0.7777777777777778,\"#fb9f3a\"],[0.8888888888888888,\"#fdca26\"],[1.0,\"#f0f921\"]],\"diverging\":[[0,\"#8e0152\"],[0.1,\"#c51b7d\"],[0.2,\"#de77ae\"],[0.3,\"#f1b6da\"],[0.4,\"#fde0ef\"],[0.5,\"#f7f7f7\"],[0.6,\"#e6f5d0\"],[0.7,\"#b8e186\"],[0.8,\"#7fbc41\"],[0.9,\"#4d9221\"],[1,\"#276419\"]]},\"xaxis\":{\"gridcolor\":\"white\",\"linecolor\":\"white\",\"ticks\":\"\",\"title\":{\"standoff\":15},\"zerolinecolor\":\"white\",\"automargin\":true,\"zerolinewidth\":2},\"yaxis\":{\"gridcolor\":\"white\",\"linecolor\":\"white\",\"ticks\":\"\",\"title\":{\"standoff\":15},\"zerolinecolor\":\"white\",\"automargin\":true,\"zerolinewidth\":2},\"scene\":{\"xaxis\":{\"backgroundcolor\":\"#E5ECF6\",\"gridcolor\":\"white\",\"linecolor\":\"white\",\"showbackground\":true,\"ticks\":\"\",\"zerolinecolor\":\"white\",\"gridwidth\":2},\"yaxis\":{\"backgroundcolor\":\"#E5ECF6\",\"gridcolor\":\"white\",\"linecolor\":\"white\",\"showbackground\":true,\"ticks\":\"\",\"zerolinecolor\":\"white\",\"gridwidth\":2},\"zaxis\":{\"backgroundcolor\":\"#E5ECF6\",\"gridcolor\":\"white\",\"linecolor\":\"white\",\"showbackground\":true,\"ticks\":\"\",\"zerolinecolor\":\"white\",\"gridwidth\":2}},\"shapedefaults\":{\"line\":{\"color\":\"#2a3f5f\"}},\"annotationdefaults\":{\"arrowcolor\":\"#2a3f5f\",\"arrowhead\":0,\"arrowwidth\":1},\"geo\":{\"bgcolor\":\"white\",\"landcolor\":\"#E5ECF6\",\"subunitcolor\":\"white\",\"showland\":true,\"showlakes\":true,\"lakecolor\":\"white\"},\"title\":{\"x\":0.05},\"mapbox\":{\"style\":\"light\"}}},\"xaxis\":{\"anchor\":\"y\",\"domain\":[0.0,1.0],\"title\":{\"text\":\"x\"}},\"yaxis\":{\"anchor\":\"x\",\"domain\":[0.0,1.0],\"title\":{\"text\":\"y\"}},\"coloraxis\":{\"colorbar\":{\"title\":{\"text\":\"color\"}},\"colorscale\":[[0.0,\"#0d0887\"],[0.1111111111111111,\"#46039f\"],[0.2222222222222222,\"#7201a8\"],[0.3333333333333333,\"#9c179e\"],[0.4444444444444444,\"#bd3786\"],[0.5555555555555556,\"#d8576b\"],[0.6666666666666666,\"#ed7953\"],[0.7777777777777778,\"#fb9f3a\"],[0.8888888888888888,\"#fdca26\"],[1.0,\"#f0f921\"]]},\"legend\":{\"tracegroupgap\":0},\"margin\":{\"t\":60}},                        {\"responsive\": true}                    ).then(function(){\n",
       "                            \n",
       "var gd = document.getElementById('2e284730-8d52-4acd-a60a-4a2d0884b6e7');\n",
       "var x = new MutationObserver(function (mutations, observer) {{\n",
       "        var display = window.getComputedStyle(gd).display;\n",
       "        if (!display || display === 'none') {{\n",
       "            console.log([gd, 'removed!']);\n",
       "            Plotly.purge(gd);\n",
       "            observer.disconnect();\n",
       "        }}\n",
       "}});\n",
       "\n",
       "// Listen for the removal of the full notebook cells\n",
       "var notebookContainer = gd.closest('#notebook-container');\n",
       "if (notebookContainer) {{\n",
       "    x.observe(notebookContainer, {childList: true});\n",
       "}}\n",
       "\n",
       "// Listen for the clearing of the current output cell\n",
       "var outputEl = gd.closest('.output');\n",
       "if (outputEl) {{\n",
       "    x.observe(outputEl, {childList: true});\n",
       "}}\n",
       "\n",
       "                        })                };                });            </script>        </div>"
      ]
     },
     "metadata": {},
     "output_type": "display_data"
    }
   ],
   "source": [
    "px.scatter(x = vis.f1, y = vis.f2, color = y_train)"
   ]
  },
  {
   "cell_type": "code",
   "execution_count": null,
   "id": "629d7a3d",
   "metadata": {
    "papermill": {
     "duration": 0.006323,
     "end_time": "2023-02-13T15:27:12.565513",
     "exception": false,
     "start_time": "2023-02-13T15:27:12.559190",
     "status": "completed"
    },
    "tags": []
   },
   "outputs": [],
   "source": []
  },
  {
   "cell_type": "code",
   "execution_count": null,
   "id": "aa6c6286",
   "metadata": {
    "papermill": {
     "duration": 0.00627,
     "end_time": "2023-02-13T15:27:12.578433",
     "exception": false,
     "start_time": "2023-02-13T15:27:12.572163",
     "status": "completed"
    },
    "tags": []
   },
   "outputs": [],
   "source": []
  }
 ],
 "metadata": {
  "kernelspec": {
   "display_name": "Python 3",
   "language": "python",
   "name": "python3"
  },
  "language_info": {
   "codemirror_mode": {
    "name": "ipython",
    "version": 3
   },
   "file_extension": ".py",
   "mimetype": "text/x-python",
   "name": "python",
   "nbconvert_exporter": "python",
   "pygments_lexer": "ipython3",
   "version": "3.7.12"
  },
  "papermill": {
   "default_parameters": {},
   "duration": 13.759563,
   "end_time": "2023-02-13T15:27:13.507769",
   "environment_variables": {},
   "exception": null,
   "input_path": "__notebook__.ipynb",
   "output_path": "__notebook__.ipynb",
   "parameters": {},
   "start_time": "2023-02-13T15:26:59.748206",
   "version": "2.3.4"
  }
 },
 "nbformat": 4,
 "nbformat_minor": 5
}
