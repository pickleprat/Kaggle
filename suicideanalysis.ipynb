{
 "cells": [
  {
   "cell_type": "code",
   "execution_count": 1,
   "id": "f2df6093",
   "metadata": {
    "_cell_guid": "b1076dfc-b9ad-4769-8c92-a6c4dae69d19",
    "_uuid": "8f2839f25d086af736a60e9eeb907d3b93b6e0e5",
    "execution": {
     "iopub.execute_input": "2023-02-05T09:23:37.852578Z",
     "iopub.status.busy": "2023-02-05T09:23:37.852128Z",
     "iopub.status.idle": "2023-02-05T09:23:37.871009Z",
     "shell.execute_reply": "2023-02-05T09:23:37.870032Z"
    },
    "papermill": {
     "duration": 0.026896,
     "end_time": "2023-02-05T09:23:37.873803",
     "exception": false,
     "start_time": "2023-02-05T09:23:37.846907",
     "status": "completed"
    },
    "tags": []
   },
   "outputs": [
    {
     "name": "stdout",
     "output_type": "stream",
     "text": [
      "/kaggle/input/suicide-watch/Suicide_Detection.csv\n"
     ]
    }
   ],
   "source": [
    "# This Python 3 environment comes with many helpful analytics libraries installed\n",
    "# It is defined by the kaggle/python Docker image: https://github.com/kaggle/docker-python\n",
    "# For example, here's several helpful packages to load\n",
    "\n",
    "import numpy as np # linear algebra\n",
    "import pandas as pd # data processing, CSV file I/O (e.g. pd.read_csv)\n",
    "\n",
    "# Input data files are available in the read-only \"../input/\" directory\n",
    "# For example, running this (by clicking run or pressing Shift+Enter) will list all files under the input directory\n",
    "\n",
    "import os\n",
    "for dirname, _, filenames in os.walk('/kaggle/input'):\n",
    "    for filename in filenames:\n",
    "        print(os.path.join(dirname, filename))\n",
    "\n",
    "# You can write up to 20GB to the current directory (/kaggle/working/) that gets preserved as output when you create a version using \"Save & Run All\" \n",
    "# You can also write temporary files to /kaggle/temp/, but they won't be saved outside of the current session"
   ]
  },
  {
   "cell_type": "code",
   "execution_count": 2,
   "id": "506ea1fa",
   "metadata": {
    "execution": {
     "iopub.execute_input": "2023-02-05T09:23:37.880725Z",
     "iopub.status.busy": "2023-02-05T09:23:37.880340Z",
     "iopub.status.idle": "2023-02-05T09:23:40.098518Z",
     "shell.execute_reply": "2023-02-05T09:23:40.097590Z"
    },
    "papermill": {
     "duration": 2.224342,
     "end_time": "2023-02-05T09:23:40.101033",
     "exception": false,
     "start_time": "2023-02-05T09:23:37.876691",
     "status": "completed"
    },
    "tags": []
   },
   "outputs": [],
   "source": [
    "import seaborn as sns \n",
    "from wordcloud import WordCloud \n",
    "from plotly import express as px \n",
    "from matplotlib import pyplot as plt "
   ]
  },
  {
   "cell_type": "code",
   "execution_count": 3,
   "id": "6b2085c5",
   "metadata": {
    "execution": {
     "iopub.execute_input": "2023-02-05T09:23:40.108200Z",
     "iopub.status.busy": "2023-02-05T09:23:40.107249Z",
     "iopub.status.idle": "2023-02-05T09:23:44.921001Z",
     "shell.execute_reply": "2023-02-05T09:23:44.919397Z"
    },
    "papermill": {
     "duration": 4.820771,
     "end_time": "2023-02-05T09:23:44.924437",
     "exception": false,
     "start_time": "2023-02-05T09:23:40.103666",
     "status": "completed"
    },
    "tags": []
   },
   "outputs": [],
   "source": [
    "df = pd.read_csv('/kaggle/input/suicide-watch/Suicide_Detection.csv', index_col = 'Unnamed: 0')\n",
    "df.rename({'class':'Class'}, axis=1, inplace=True)\n",
    "train = df.sample(int(np.ceil(0.15*len(df))))"
   ]
  },
  {
   "cell_type": "code",
   "execution_count": 4,
   "id": "a737b90a",
   "metadata": {
    "execution": {
     "iopub.execute_input": "2023-02-05T09:23:44.932008Z",
     "iopub.status.busy": "2023-02-05T09:23:44.930938Z",
     "iopub.status.idle": "2023-02-05T09:23:44.945416Z",
     "shell.execute_reply": "2023-02-05T09:23:44.944346Z"
    },
    "papermill": {
     "duration": 0.020998,
     "end_time": "2023-02-05T09:23:44.948187",
     "exception": false,
     "start_time": "2023-02-05T09:23:44.927189",
     "status": "completed"
    },
    "tags": []
   },
   "outputs": [
    {
     "data": {
      "text/plain": [
       "suicide        17502\n",
       "non-suicide    17310\n",
       "Name: Class, dtype: int64"
      ]
     },
     "execution_count": 4,
     "metadata": {},
     "output_type": "execute_result"
    }
   ],
   "source": [
    "train.Class.value_counts()"
   ]
  },
  {
   "cell_type": "code",
   "execution_count": null,
   "id": "7e0fe5ff",
   "metadata": {
    "execution": {
     "iopub.execute_input": "2023-02-05T09:14:16.236563Z",
     "iopub.status.busy": "2023-02-05T09:14:16.236170Z",
     "iopub.status.idle": "2023-02-05T09:14:16.255859Z",
     "shell.execute_reply": "2023-02-05T09:14:16.254769Z",
     "shell.execute_reply.started": "2023-02-05T09:14:16.236522Z"
    },
    "papermill": {
     "duration": 0.002367,
     "end_time": "2023-02-05T09:23:44.953279",
     "exception": false,
     "start_time": "2023-02-05T09:23:44.950912",
     "status": "completed"
    },
    "tags": []
   },
   "outputs": [],
   "source": []
  },
  {
   "cell_type": "code",
   "execution_count": null,
   "id": "9af124b3",
   "metadata": {
    "papermill": {
     "duration": 0.002185,
     "end_time": "2023-02-05T09:23:44.958119",
     "exception": false,
     "start_time": "2023-02-05T09:23:44.955934",
     "status": "completed"
    },
    "tags": []
   },
   "outputs": [],
   "source": []
  }
 ],
 "metadata": {
  "kernelspec": {
   "display_name": "Python 3",
   "language": "python",
   "name": "python3"
  },
  "language_info": {
   "codemirror_mode": {
    "name": "ipython",
    "version": 3
   },
   "file_extension": ".py",
   "mimetype": "text/x-python",
   "name": "python",
   "nbconvert_exporter": "python",
   "pygments_lexer": "ipython3",
   "version": "3.7.12"
  },
  "papermill": {
   "default_parameters": {},
   "duration": 16.485505,
   "end_time": "2023-02-05T09:23:45.783853",
   "environment_variables": {},
   "exception": null,
   "input_path": "__notebook__.ipynb",
   "output_path": "__notebook__.ipynb",
   "parameters": {},
   "start_time": "2023-02-05T09:23:29.298348",
   "version": "2.3.4"
  }
 },
 "nbformat": 4,
 "nbformat_minor": 5
}
